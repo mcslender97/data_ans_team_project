{
 "cells": [
  {
   "cell_type": "markdown",
   "id": "09f23a9f",
   "metadata": {},
   "source": [
    "\n"
   ]
  },
  {
   "cell_type": "code",
   "execution_count": 1,
   "id": "ee298460",
   "metadata": {},
   "outputs": [],
   "source": [
    "import pandas as pd\n",
    "import numpy as np\n",
    "import matplotlib.pyplot as plt\n",
    "import seaborn as sns \n",
    "import sqlite3\n",
    "%matplotlib inline\n",
    "\n",
    "import os\n"
   ]
  },
  {
   "cell_type": "code",
   "execution_count": 2,
   "id": "98a5ffca",
   "metadata": {},
   "outputs": [],
   "source": [
    "cnx = sqlite3.connect('./data.db')\n",
    "\n",
    "original_songs = pd.read_sql_query(\"SELECT * FROM songs\", cnx)\n",
    "original_genres = pd.read_sql_query(\"SELECT * FROM genres\", cnx)\n",
    "\n",
    "artists = pd.read_sql_query(\"SELECT * FROM artist\", cnx)\n",
    "\n",
    "characteristics = pd.read_sql_query(\"SELECT * FROM characteristics\", cnx)\n",
    "\n",
    "new_genres = pd.read_csv('df_genres2.csv')\n",
    "new_songs = pd.read_csv('df_songs2.csv')"
   ]
  },
  {
   "cell_type": "code",
   "execution_count": 3,
   "id": "8e205b39",
   "metadata": {},
   "outputs": [],
   "source": [
    "df_ori = original_songs.merge(original_genres).merge(characteristics).merge(artists)\n",
    "df_new = new_songs.merge(new_genres).merge(characteristics).merge(artists)"
   ]
  },
  {
   "cell_type": "code",
   "execution_count": 4,
   "id": "d4bc14df",
   "metadata": {},
   "outputs": [
    {
     "data": {
      "text/html": [
       "<div>\n",
       "<style scoped>\n",
       "    .dataframe tbody tr th:only-of-type {\n",
       "        vertical-align: middle;\n",
       "    }\n",
       "\n",
       "    .dataframe tbody tr th {\n",
       "        vertical-align: top;\n",
       "    }\n",
       "\n",
       "    .dataframe thead th {\n",
       "        text-align: right;\n",
       "    }\n",
       "</style>\n",
       "<table border=\"1\" class=\"dataframe\">\n",
       "  <thead>\n",
       "    <tr style=\"text-align: right;\">\n",
       "      <th></th>\n",
       "      <th>song_id</th>\n",
       "      <th>title</th>\n",
       "      <th>year</th>\n",
       "      <th>artist_id</th>\n",
       "      <th>genre_id</th>\n",
       "      <th>genre_name</th>\n",
       "      <th>bpm</th>\n",
       "      <th>energy</th>\n",
       "      <th>danceability</th>\n",
       "      <th>db</th>\n",
       "      <th>liveness</th>\n",
       "      <th>valence</th>\n",
       "      <th>length</th>\n",
       "      <th>acousticness</th>\n",
       "      <th>speechiness</th>\n",
       "      <th>popularity</th>\n",
       "      <th>artist_name</th>\n",
       "    </tr>\n",
       "  </thead>\n",
       "  <tbody>\n",
       "    <tr>\n",
       "      <th>0</th>\n",
       "      <td>0</td>\n",
       "      <td>Sunrise</td>\n",
       "      <td>2004</td>\n",
       "      <td>0</td>\n",
       "      <td>0</td>\n",
       "      <td>adult standards</td>\n",
       "      <td>157</td>\n",
       "      <td>30</td>\n",
       "      <td>53</td>\n",
       "      <td>-14</td>\n",
       "      <td>11</td>\n",
       "      <td>68</td>\n",
       "      <td>201</td>\n",
       "      <td>94</td>\n",
       "      <td>3</td>\n",
       "      <td>71</td>\n",
       "      <td>Norah Jones</td>\n",
       "    </tr>\n",
       "    <tr>\n",
       "      <th>1</th>\n",
       "      <td>33</td>\n",
       "      <td>Don't Know Why</td>\n",
       "      <td>2002</td>\n",
       "      <td>0</td>\n",
       "      <td>0</td>\n",
       "      <td>adult standards</td>\n",
       "      <td>88</td>\n",
       "      <td>20</td>\n",
       "      <td>73</td>\n",
       "      <td>-12</td>\n",
       "      <td>7</td>\n",
       "      <td>62</td>\n",
       "      <td>186</td>\n",
       "      <td>88</td>\n",
       "      <td>3</td>\n",
       "      <td>74</td>\n",
       "      <td>Norah Jones</td>\n",
       "    </tr>\n",
       "  </tbody>\n",
       "</table>\n",
       "</div>"
      ],
      "text/plain": [
       "   song_id           title  year  artist_id  genre_id       genre_name  bpm  \\\n",
       "0        0         Sunrise  2004          0         0  adult standards  157   \n",
       "1       33  Don't Know Why  2002          0         0  adult standards   88   \n",
       "\n",
       "   energy  danceability  db  liveness  valence  length  acousticness  \\\n",
       "0      30            53 -14        11       68     201            94   \n",
       "1      20            73 -12         7       62     186            88   \n",
       "\n",
       "   speechiness  popularity  artist_name  \n",
       "0            3          71  Norah Jones  \n",
       "1            3          74  Norah Jones  "
      ]
     },
     "execution_count": 4,
     "metadata": {},
     "output_type": "execute_result"
    }
   ],
   "source": [
    "df_ori.head(2)"
   ]
  },
  {
   "cell_type": "code",
   "execution_count": 5,
   "id": "7069638f",
   "metadata": {},
   "outputs": [
    {
     "name": "stdout",
     "output_type": "stream",
     "text": [
      "<class 'pandas.core.frame.DataFrame'>\n",
      "Int64Index: 1994 entries, 0 to 1993\n",
      "Data columns (total 17 columns):\n",
      " #   Column        Non-Null Count  Dtype \n",
      "---  ------        --------------  ----- \n",
      " 0   song_id       1994 non-null   int64 \n",
      " 1   title         1994 non-null   object\n",
      " 2   year          1994 non-null   int64 \n",
      " 3   artist_id     1994 non-null   int64 \n",
      " 4   genre_id      1994 non-null   int64 \n",
      " 5   genre_name    1994 non-null   object\n",
      " 6   bpm           1994 non-null   int64 \n",
      " 7   energy        1994 non-null   int64 \n",
      " 8   danceability  1994 non-null   int64 \n",
      " 9   db            1994 non-null   int64 \n",
      " 10  liveness      1994 non-null   int64 \n",
      " 11  valence       1994 non-null   int64 \n",
      " 12  length        1994 non-null   int64 \n",
      " 13  acousticness  1994 non-null   int64 \n",
      " 14  speechiness   1994 non-null   int64 \n",
      " 15  popularity    1994 non-null   int64 \n",
      " 16  artist_name   1994 non-null   object\n",
      "dtypes: int64(14), object(3)\n",
      "memory usage: 280.4+ KB\n"
     ]
    }
   ],
   "source": [
    "df_ori.info()"
   ]
  },
  {
   "cell_type": "code",
   "execution_count": 6,
   "id": "11c25583",
   "metadata": {},
   "outputs": [
    {
     "data": {
      "text/html": [
       "<div>\n",
       "<style scoped>\n",
       "    .dataframe tbody tr th:only-of-type {\n",
       "        vertical-align: middle;\n",
       "    }\n",
       "\n",
       "    .dataframe tbody tr th {\n",
       "        vertical-align: top;\n",
       "    }\n",
       "\n",
       "    .dataframe thead th {\n",
       "        text-align: right;\n",
       "    }\n",
       "</style>\n",
       "<table border=\"1\" class=\"dataframe\">\n",
       "  <thead>\n",
       "    <tr style=\"text-align: right;\">\n",
       "      <th></th>\n",
       "      <th>song_id</th>\n",
       "      <th>year</th>\n",
       "      <th>artist_id</th>\n",
       "      <th>genre_id</th>\n",
       "      <th>bpm</th>\n",
       "      <th>energy</th>\n",
       "      <th>danceability</th>\n",
       "      <th>db</th>\n",
       "      <th>liveness</th>\n",
       "      <th>valence</th>\n",
       "      <th>length</th>\n",
       "      <th>acousticness</th>\n",
       "      <th>speechiness</th>\n",
       "      <th>popularity</th>\n",
       "    </tr>\n",
       "  </thead>\n",
       "  <tbody>\n",
       "    <tr>\n",
       "      <th>count</th>\n",
       "      <td>1994.000000</td>\n",
       "      <td>1994.000000</td>\n",
       "      <td>1994.000000</td>\n",
       "      <td>1994.000000</td>\n",
       "      <td>1994.000000</td>\n",
       "      <td>1994.000000</td>\n",
       "      <td>1994.000000</td>\n",
       "      <td>1994.000000</td>\n",
       "      <td>1994.000000</td>\n",
       "      <td>1994.000000</td>\n",
       "      <td>1994.000000</td>\n",
       "      <td>1994.000000</td>\n",
       "      <td>1994.000000</td>\n",
       "      <td>1994.00000</td>\n",
       "    </tr>\n",
       "    <tr>\n",
       "      <th>mean</th>\n",
       "      <td>996.500000</td>\n",
       "      <td>1992.992979</td>\n",
       "      <td>295.808425</td>\n",
       "      <td>27.734704</td>\n",
       "      <td>120.215647</td>\n",
       "      <td>59.679539</td>\n",
       "      <td>53.238215</td>\n",
       "      <td>-9.008526</td>\n",
       "      <td>19.012036</td>\n",
       "      <td>49.408726</td>\n",
       "      <td>262.443330</td>\n",
       "      <td>28.858074</td>\n",
       "      <td>4.994985</td>\n",
       "      <td>59.52658</td>\n",
       "    </tr>\n",
       "    <tr>\n",
       "      <th>std</th>\n",
       "      <td>575.762538</td>\n",
       "      <td>16.116048</td>\n",
       "      <td>211.499699</td>\n",
       "      <td>35.359856</td>\n",
       "      <td>28.028096</td>\n",
       "      <td>22.154322</td>\n",
       "      <td>15.351507</td>\n",
       "      <td>3.647876</td>\n",
       "      <td>16.727378</td>\n",
       "      <td>24.858212</td>\n",
       "      <td>93.604387</td>\n",
       "      <td>29.011986</td>\n",
       "      <td>4.401566</td>\n",
       "      <td>14.35160</td>\n",
       "    </tr>\n",
       "    <tr>\n",
       "      <th>min</th>\n",
       "      <td>0.000000</td>\n",
       "      <td>1956.000000</td>\n",
       "      <td>0.000000</td>\n",
       "      <td>0.000000</td>\n",
       "      <td>37.000000</td>\n",
       "      <td>3.000000</td>\n",
       "      <td>10.000000</td>\n",
       "      <td>-27.000000</td>\n",
       "      <td>2.000000</td>\n",
       "      <td>3.000000</td>\n",
       "      <td>93.000000</td>\n",
       "      <td>0.000000</td>\n",
       "      <td>2.000000</td>\n",
       "      <td>11.00000</td>\n",
       "    </tr>\n",
       "    <tr>\n",
       "      <th>25%</th>\n",
       "      <td>498.250000</td>\n",
       "      <td>1979.000000</td>\n",
       "      <td>90.000000</td>\n",
       "      <td>1.000000</td>\n",
       "      <td>99.000000</td>\n",
       "      <td>42.000000</td>\n",
       "      <td>43.000000</td>\n",
       "      <td>-11.000000</td>\n",
       "      <td>9.000000</td>\n",
       "      <td>29.000000</td>\n",
       "      <td>212.000000</td>\n",
       "      <td>3.000000</td>\n",
       "      <td>3.000000</td>\n",
       "      <td>49.25000</td>\n",
       "    </tr>\n",
       "    <tr>\n",
       "      <th>50%</th>\n",
       "      <td>996.500000</td>\n",
       "      <td>1993.000000</td>\n",
       "      <td>289.500000</td>\n",
       "      <td>13.000000</td>\n",
       "      <td>119.000000</td>\n",
       "      <td>61.000000</td>\n",
       "      <td>53.000000</td>\n",
       "      <td>-8.000000</td>\n",
       "      <td>12.000000</td>\n",
       "      <td>47.000000</td>\n",
       "      <td>245.000000</td>\n",
       "      <td>18.000000</td>\n",
       "      <td>4.000000</td>\n",
       "      <td>62.00000</td>\n",
       "    </tr>\n",
       "    <tr>\n",
       "      <th>75%</th>\n",
       "      <td>1494.750000</td>\n",
       "      <td>2007.000000</td>\n",
       "      <td>458.750000</td>\n",
       "      <td>40.000000</td>\n",
       "      <td>136.000000</td>\n",
       "      <td>78.000000</td>\n",
       "      <td>64.000000</td>\n",
       "      <td>-6.000000</td>\n",
       "      <td>23.000000</td>\n",
       "      <td>69.750000</td>\n",
       "      <td>289.000000</td>\n",
       "      <td>50.000000</td>\n",
       "      <td>5.000000</td>\n",
       "      <td>71.00000</td>\n",
       "    </tr>\n",
       "    <tr>\n",
       "      <th>max</th>\n",
       "      <td>1993.000000</td>\n",
       "      <td>2019.000000</td>\n",
       "      <td>730.000000</td>\n",
       "      <td>148.000000</td>\n",
       "      <td>206.000000</td>\n",
       "      <td>100.000000</td>\n",
       "      <td>96.000000</td>\n",
       "      <td>-2.000000</td>\n",
       "      <td>99.000000</td>\n",
       "      <td>99.000000</td>\n",
       "      <td>1412.000000</td>\n",
       "      <td>99.000000</td>\n",
       "      <td>55.000000</td>\n",
       "      <td>100.00000</td>\n",
       "    </tr>\n",
       "  </tbody>\n",
       "</table>\n",
       "</div>"
      ],
      "text/plain": [
       "           song_id         year    artist_id     genre_id          bpm  \\\n",
       "count  1994.000000  1994.000000  1994.000000  1994.000000  1994.000000   \n",
       "mean    996.500000  1992.992979   295.808425    27.734704   120.215647   \n",
       "std     575.762538    16.116048   211.499699    35.359856    28.028096   \n",
       "min       0.000000  1956.000000     0.000000     0.000000    37.000000   \n",
       "25%     498.250000  1979.000000    90.000000     1.000000    99.000000   \n",
       "50%     996.500000  1993.000000   289.500000    13.000000   119.000000   \n",
       "75%    1494.750000  2007.000000   458.750000    40.000000   136.000000   \n",
       "max    1993.000000  2019.000000   730.000000   148.000000   206.000000   \n",
       "\n",
       "            energy  danceability           db     liveness      valence  \\\n",
       "count  1994.000000   1994.000000  1994.000000  1994.000000  1994.000000   \n",
       "mean     59.679539     53.238215    -9.008526    19.012036    49.408726   \n",
       "std      22.154322     15.351507     3.647876    16.727378    24.858212   \n",
       "min       3.000000     10.000000   -27.000000     2.000000     3.000000   \n",
       "25%      42.000000     43.000000   -11.000000     9.000000    29.000000   \n",
       "50%      61.000000     53.000000    -8.000000    12.000000    47.000000   \n",
       "75%      78.000000     64.000000    -6.000000    23.000000    69.750000   \n",
       "max     100.000000     96.000000    -2.000000    99.000000    99.000000   \n",
       "\n",
       "            length  acousticness  speechiness  popularity  \n",
       "count  1994.000000   1994.000000  1994.000000  1994.00000  \n",
       "mean    262.443330     28.858074     4.994985    59.52658  \n",
       "std      93.604387     29.011986     4.401566    14.35160  \n",
       "min      93.000000      0.000000     2.000000    11.00000  \n",
       "25%     212.000000      3.000000     3.000000    49.25000  \n",
       "50%     245.000000     18.000000     4.000000    62.00000  \n",
       "75%     289.000000     50.000000     5.000000    71.00000  \n",
       "max    1412.000000     99.000000    55.000000   100.00000  "
      ]
     },
     "execution_count": 6,
     "metadata": {},
     "output_type": "execute_result"
    }
   ],
   "source": [
    "df_ori.describe()"
   ]
  },
  {
   "cell_type": "markdown",
   "id": "8dd4a10a",
   "metadata": {},
   "source": [
    "#### Goal: explore The relationship between Genres and Popularity "
   ]
  },
  {
   "cell_type": "code",
   "execution_count": 7,
   "id": "1e0c202b",
   "metadata": {},
   "outputs": [
    {
     "data": {
      "text/plain": [
       "149"
      ]
     },
     "execution_count": 7,
     "metadata": {},
     "output_type": "execute_result"
    }
   ],
   "source": [
    "df_ori['genre_name'].nunique()"
   ]
  },
  {
   "cell_type": "code",
   "execution_count": 8,
   "id": "69e627c1",
   "metadata": {},
   "outputs": [
    {
     "data": {
      "text/plain": [
       "array(['adult standards', 'album rock', 'alternative hip hop',\n",
       "       'alternative metal', 'classic rock', 'alternative pop rock', 'pop',\n",
       "       'modern rock', 'detroit hip hop', 'alternative rock',\n",
       "       'dutch indie', 'garage rock', 'dutch cabaret', 'permanent wave',\n",
       "       'classic uk pop', 'dance pop', 'modern folk rock', 'dutch pop',\n",
       "       'dutch americana', 'alternative dance', 'german pop', 'afropop',\n",
       "       'british soul', 'irish rock', 'disco', 'big room', 'art rock',\n",
       "       'danish pop rock', 'neo mellow', 'britpop', 'boy band',\n",
       "       'carnaval limburg', 'arkansas country', 'latin alternative',\n",
       "       'british folk', 'celtic', 'chanson', 'celtic rock', 'hip pop',\n",
       "       'east coast hip hop', 'dutch rock', 'blues rock', 'electro',\n",
       "       'australian pop', 'belgian rock', 'downtempo', 'reggae fusion',\n",
       "       'british invasion', 'finnish metal', 'canadian pop', 'bow pop',\n",
       "       'dutch hip hop', 'dutch metal', 'soft rock', 'acoustic pop',\n",
       "       'acid jazz', 'dutch prog', 'candy pop', 'operatic pop', 'trance',\n",
       "       'scottish singer-songwriter', 'mellow gold', 'alternative pop',\n",
       "       'dance rock', 'atl hip hop', 'eurodance', 'blues', 'canadian folk',\n",
       "       'big beat', 'art pop', 'uk pop', 'glam metal',\n",
       "       'brill building pop', 'g funk', 'happy hardcore', 'belgian pop',\n",
       "       'classic schlager', 'contemporary country', 'barbadian pop',\n",
       "       'gabba', 'chamber pop', 'british singer-songwriter', 'indie pop',\n",
       "       'australian rock', 'nederpop', 'australian indie folk', 'folk-pop',\n",
       "       'electropop', 'edm', 'metropopolis', 'irish pop', 'electronica',\n",
       "       'alaska indie', 'irish singer-songwriter', 'stomp and holler',\n",
       "       'australian dance', 'australian psych', 'laboratorio',\n",
       "       'contemporary vocal jazz', 'rock-and-roll', 'glam rock',\n",
       "       'classic soundtrack', 'icelandic indie', 'danish pop',\n",
       "       'compositional ambient', 'neo soul', 'streektaal', 'italian pop',\n",
       "       'indie anthem-folk', 'la pop', 'baroque pop', 'ccm',\n",
       "       'electro house', 'austropop', 'australian americana', 'latin',\n",
       "       'chicago soul', 'classic soul', 'bubblegum pop',\n",
       "       'classic country pop', 'europop', 'hard rock', 'reggae', 'j-core',\n",
       "       'funk', 'folk', 'punk', 'basshall', 'australian alternative rock',\n",
       "       'yacht rock', 'alternative country', 'celtic punk', 'new wave pop',\n",
       "       'classic canadian rock', 'christelijk', 'levenslied', 'cyberpunk',\n",
       "       'gangster rap', 'diva house', 'classical rock', 'canadian rock',\n",
       "       'german pop rock', 'british alternative rock', 'latin jazz',\n",
       "       'german alternative rock', 'classic italian pop', 'pop punk',\n",
       "       'motown', 'bebop'], dtype=object)"
      ]
     },
     "execution_count": 8,
     "metadata": {},
     "output_type": "execute_result"
    }
   ],
   "source": [
    "df_ori['genre_name'].unique()"
   ]
  },
  {
   "cell_type": "code",
   "execution_count": 9,
   "id": "bc2d1171",
   "metadata": {},
   "outputs": [
    {
     "name": "stdout",
     "output_type": "stream",
     "text": [
      "oldest: 1956 recent: 2019\n"
     ]
    }
   ],
   "source": [
    "print(f\"oldest: {df_ori['year'].min()} recent: {df_ori['year'].max()}\")"
   ]
  },
  {
   "cell_type": "code",
   "execution_count": 10,
   "id": "2f1ba5b7",
   "metadata": {},
   "outputs": [
    {
     "name": "stdout",
     "output_type": "stream",
     "text": [
      "range:  63\n"
     ]
    }
   ],
   "source": [
    "print('range: ' ,df_ori['year'].max() - df_ori['year'].min())"
   ]
  },
  {
   "cell_type": "code",
   "execution_count": 11,
   "id": "c02dcd56",
   "metadata": {},
   "outputs": [
    {
     "data": {
      "text/plain": [
       "['01-10', '10-19', '65-76', '92-01', '55-65', '75-83', '83-92']\n",
       "Categories (7, object): ['55-65' < '65-76' < '75-83' < '83-92' < '92-01' < '01-10' < '10-19']"
      ]
     },
     "execution_count": 11,
     "metadata": {},
     "output_type": "execute_result"
    }
   ],
   "source": [
    "labels = '55-65 65-76 75-83 83-92 92-01 01-10 10-19'.split()\n",
    "df_ori['decade_group'] = pd.cut(df_ori['year'],bins=7,labels=labels)\n",
    "df_ori['decade_group'].unique()"
   ]
  },
  {
   "cell_type": "code",
   "execution_count": 12,
   "id": "2d977078",
   "metadata": {},
   "outputs": [
    {
     "data": {
      "text/html": [
       "<div>\n",
       "<style scoped>\n",
       "    .dataframe tbody tr th:only-of-type {\n",
       "        vertical-align: middle;\n",
       "    }\n",
       "\n",
       "    .dataframe tbody tr th {\n",
       "        vertical-align: top;\n",
       "    }\n",
       "\n",
       "    .dataframe thead th {\n",
       "        text-align: right;\n",
       "    }\n",
       "</style>\n",
       "<table border=\"1\" class=\"dataframe\">\n",
       "  <thead>\n",
       "    <tr style=\"text-align: right;\">\n",
       "      <th></th>\n",
       "      <th>decade_group</th>\n",
       "      <th>genre_name</th>\n",
       "      <th>song_id</th>\n",
       "      <th>year</th>\n",
       "      <th>artist_id</th>\n",
       "      <th>genre_id</th>\n",
       "      <th>bpm</th>\n",
       "      <th>energy</th>\n",
       "      <th>danceability</th>\n",
       "      <th>db</th>\n",
       "      <th>liveness</th>\n",
       "      <th>valence</th>\n",
       "      <th>length</th>\n",
       "      <th>acousticness</th>\n",
       "      <th>speechiness</th>\n",
       "      <th>popularity</th>\n",
       "    </tr>\n",
       "  </thead>\n",
       "  <tbody>\n",
       "    <tr>\n",
       "      <th>61</th>\n",
       "      <td>55-65</td>\n",
       "      <td>classic rock</td>\n",
       "      <td>1839.000000</td>\n",
       "      <td>1964.000000</td>\n",
       "      <td>394.000000</td>\n",
       "      <td>4.0</td>\n",
       "      <td>107.000000</td>\n",
       "      <td>22.000000</td>\n",
       "      <td>53.000000</td>\n",
       "      <td>-14.000000</td>\n",
       "      <td>11.000000</td>\n",
       "      <td>33.000000</td>\n",
       "      <td>185.000000</td>\n",
       "      <td>84.000000</td>\n",
       "      <td>3.000000</td>\n",
       "      <td>75.000000</td>\n",
       "    </tr>\n",
       "    <tr>\n",
       "      <th>34</th>\n",
       "      <td>55-65</td>\n",
       "      <td>blues rock</td>\n",
       "      <td>1991.000000</td>\n",
       "      <td>1959.000000</td>\n",
       "      <td>728.000000</td>\n",
       "      <td>41.0</td>\n",
       "      <td>168.000000</td>\n",
       "      <td>80.000000</td>\n",
       "      <td>53.000000</td>\n",
       "      <td>-9.000000</td>\n",
       "      <td>31.000000</td>\n",
       "      <td>97.000000</td>\n",
       "      <td>162.000000</td>\n",
       "      <td>74.000000</td>\n",
       "      <td>7.000000</td>\n",
       "      <td>74.000000</td>\n",
       "    </tr>\n",
       "    <tr>\n",
       "      <th>40</th>\n",
       "      <td>55-65</td>\n",
       "      <td>british invasion</td>\n",
       "      <td>1847.111111</td>\n",
       "      <td>1964.333333</td>\n",
       "      <td>113.000000</td>\n",
       "      <td>47.0</td>\n",
       "      <td>127.888889</td>\n",
       "      <td>56.111111</td>\n",
       "      <td>53.000000</td>\n",
       "      <td>-9.888889</td>\n",
       "      <td>9.444444</td>\n",
       "      <td>69.888889</td>\n",
       "      <td>149.555556</td>\n",
       "      <td>42.333333</td>\n",
       "      <td>3.666667</td>\n",
       "      <td>71.222222</td>\n",
       "    </tr>\n",
       "    <tr>\n",
       "      <th>2</th>\n",
       "      <td>55-65</td>\n",
       "      <td>adult standards</td>\n",
       "      <td>1896.833333</td>\n",
       "      <td>1960.944444</td>\n",
       "      <td>349.611111</td>\n",
       "      <td>0.0</td>\n",
       "      <td>117.111111</td>\n",
       "      <td>35.666667</td>\n",
       "      <td>46.222222</td>\n",
       "      <td>-12.111111</td>\n",
       "      <td>17.388889</td>\n",
       "      <td>54.666667</td>\n",
       "      <td>181.388889</td>\n",
       "      <td>71.000000</td>\n",
       "      <td>4.666667</td>\n",
       "      <td>68.000000</td>\n",
       "    </tr>\n",
       "    <tr>\n",
       "      <th>28</th>\n",
       "      <td>55-65</td>\n",
       "      <td>bebop</td>\n",
       "      <td>1992.000000</td>\n",
       "      <td>1959.000000</td>\n",
       "      <td>729.000000</td>\n",
       "      <td>148.0</td>\n",
       "      <td>174.000000</td>\n",
       "      <td>26.000000</td>\n",
       "      <td>45.000000</td>\n",
       "      <td>-13.000000</td>\n",
       "      <td>7.000000</td>\n",
       "      <td>60.000000</td>\n",
       "      <td>324.000000</td>\n",
       "      <td>54.000000</td>\n",
       "      <td>4.000000</td>\n",
       "      <td>65.000000</td>\n",
       "    </tr>\n",
       "    <tr>\n",
       "      <th>...</th>\n",
       "      <td>...</td>\n",
       "      <td>...</td>\n",
       "      <td>...</td>\n",
       "      <td>...</td>\n",
       "      <td>...</td>\n",
       "      <td>...</td>\n",
       "      <td>...</td>\n",
       "      <td>...</td>\n",
       "      <td>...</td>\n",
       "      <td>...</td>\n",
       "      <td>...</td>\n",
       "      <td>...</td>\n",
       "      <td>...</td>\n",
       "      <td>...</td>\n",
       "      <td>...</td>\n",
       "      <td>...</td>\n",
       "    </tr>\n",
       "    <tr>\n",
       "      <th>961</th>\n",
       "      <td>10-19</td>\n",
       "      <td>compositional ambient</td>\n",
       "      <td>679.000000</td>\n",
       "      <td>2016.000000</td>\n",
       "      <td>345.000000</td>\n",
       "      <td>104.0</td>\n",
       "      <td>105.000000</td>\n",
       "      <td>24.000000</td>\n",
       "      <td>61.000000</td>\n",
       "      <td>-17.000000</td>\n",
       "      <td>25.000000</td>\n",
       "      <td>37.000000</td>\n",
       "      <td>290.000000</td>\n",
       "      <td>76.000000</td>\n",
       "      <td>3.000000</td>\n",
       "      <td>28.000000</td>\n",
       "    </tr>\n",
       "    <tr>\n",
       "      <th>1039</th>\n",
       "      <td>10-19</td>\n",
       "      <td>streektaal</td>\n",
       "      <td>690.000000</td>\n",
       "      <td>2017.000000</td>\n",
       "      <td>349.000000</td>\n",
       "      <td>106.0</td>\n",
       "      <td>98.000000</td>\n",
       "      <td>21.000000</td>\n",
       "      <td>61.000000</td>\n",
       "      <td>-20.000000</td>\n",
       "      <td>8.000000</td>\n",
       "      <td>42.000000</td>\n",
       "      <td>274.000000</td>\n",
       "      <td>60.000000</td>\n",
       "      <td>3.000000</td>\n",
       "      <td>28.000000</td>\n",
       "    </tr>\n",
       "    <tr>\n",
       "      <th>918</th>\n",
       "      <td>10-19</td>\n",
       "      <td>austropop</td>\n",
       "      <td>767.000000</td>\n",
       "      <td>2018.000000</td>\n",
       "      <td>376.000000</td>\n",
       "      <td>113.0</td>\n",
       "      <td>93.000000</td>\n",
       "      <td>84.000000</td>\n",
       "      <td>64.000000</td>\n",
       "      <td>-8.000000</td>\n",
       "      <td>21.000000</td>\n",
       "      <td>89.000000</td>\n",
       "      <td>216.000000</td>\n",
       "      <td>42.000000</td>\n",
       "      <td>4.000000</td>\n",
       "      <td>26.000000</td>\n",
       "    </tr>\n",
       "    <tr>\n",
       "      <th>1011</th>\n",
       "      <td>10-19</td>\n",
       "      <td>italian pop</td>\n",
       "      <td>713.000000</td>\n",
       "      <td>2017.000000</td>\n",
       "      <td>357.000000</td>\n",
       "      <td>107.0</td>\n",
       "      <td>125.000000</td>\n",
       "      <td>40.000000</td>\n",
       "      <td>50.000000</td>\n",
       "      <td>-9.000000</td>\n",
       "      <td>12.000000</td>\n",
       "      <td>15.000000</td>\n",
       "      <td>225.000000</td>\n",
       "      <td>34.000000</td>\n",
       "      <td>3.000000</td>\n",
       "      <td>25.000000</td>\n",
       "    </tr>\n",
       "    <tr>\n",
       "      <th>907</th>\n",
       "      <td>10-19</td>\n",
       "      <td>arkansas country</td>\n",
       "      <td>469.000000</td>\n",
       "      <td>2011.500000</td>\n",
       "      <td>53.000000</td>\n",
       "      <td>32.0</td>\n",
       "      <td>94.500000</td>\n",
       "      <td>43.000000</td>\n",
       "      <td>61.000000</td>\n",
       "      <td>-15.000000</td>\n",
       "      <td>84.000000</td>\n",
       "      <td>85.500000</td>\n",
       "      <td>188.000000</td>\n",
       "      <td>74.500000</td>\n",
       "      <td>5.500000</td>\n",
       "      <td>22.500000</td>\n",
       "    </tr>\n",
       "  </tbody>\n",
       "</table>\n",
       "<p>352 rows × 16 columns</p>\n",
       "</div>"
      ],
      "text/plain": [
       "     decade_group             genre_name      song_id         year  \\\n",
       "61          55-65           classic rock  1839.000000  1964.000000   \n",
       "34          55-65             blues rock  1991.000000  1959.000000   \n",
       "40          55-65       british invasion  1847.111111  1964.333333   \n",
       "2           55-65        adult standards  1896.833333  1960.944444   \n",
       "28          55-65                  bebop  1992.000000  1959.000000   \n",
       "...           ...                    ...          ...          ...   \n",
       "961         10-19  compositional ambient   679.000000  2016.000000   \n",
       "1039        10-19             streektaal   690.000000  2017.000000   \n",
       "918         10-19              austropop   767.000000  2018.000000   \n",
       "1011        10-19            italian pop   713.000000  2017.000000   \n",
       "907         10-19       arkansas country   469.000000  2011.500000   \n",
       "\n",
       "       artist_id  genre_id         bpm     energy  danceability         db  \\\n",
       "61    394.000000       4.0  107.000000  22.000000     53.000000 -14.000000   \n",
       "34    728.000000      41.0  168.000000  80.000000     53.000000  -9.000000   \n",
       "40    113.000000      47.0  127.888889  56.111111     53.000000  -9.888889   \n",
       "2     349.611111       0.0  117.111111  35.666667     46.222222 -12.111111   \n",
       "28    729.000000     148.0  174.000000  26.000000     45.000000 -13.000000   \n",
       "...          ...       ...         ...        ...           ...        ...   \n",
       "961   345.000000     104.0  105.000000  24.000000     61.000000 -17.000000   \n",
       "1039  349.000000     106.0   98.000000  21.000000     61.000000 -20.000000   \n",
       "918   376.000000     113.0   93.000000  84.000000     64.000000  -8.000000   \n",
       "1011  357.000000     107.0  125.000000  40.000000     50.000000  -9.000000   \n",
       "907    53.000000      32.0   94.500000  43.000000     61.000000 -15.000000   \n",
       "\n",
       "       liveness    valence      length  acousticness  speechiness  popularity  \n",
       "61    11.000000  33.000000  185.000000     84.000000     3.000000   75.000000  \n",
       "34    31.000000  97.000000  162.000000     74.000000     7.000000   74.000000  \n",
       "40     9.444444  69.888889  149.555556     42.333333     3.666667   71.222222  \n",
       "2     17.388889  54.666667  181.388889     71.000000     4.666667   68.000000  \n",
       "28     7.000000  60.000000  324.000000     54.000000     4.000000   65.000000  \n",
       "...         ...        ...         ...           ...          ...         ...  \n",
       "961   25.000000  37.000000  290.000000     76.000000     3.000000   28.000000  \n",
       "1039   8.000000  42.000000  274.000000     60.000000     3.000000   28.000000  \n",
       "918   21.000000  89.000000  216.000000     42.000000     4.000000   26.000000  \n",
       "1011  12.000000  15.000000  225.000000     34.000000     3.000000   25.000000  \n",
       "907   84.000000  85.500000  188.000000     74.500000     5.500000   22.500000  \n",
       "\n",
       "[352 rows x 16 columns]"
      ]
     },
     "execution_count": 12,
     "metadata": {},
     "output_type": "execute_result"
    }
   ],
   "source": [
    "df_ori_group = df_ori.groupby(['decade_group','genre_name'],as_index=False).mean()\\\n",
    ".sort_values(by=['decade_group','popularity'], ascending=[True,False]).dropna()\n",
    "\n",
    "\n",
    "df_ori_group"
   ]
  },
  {
   "cell_type": "code",
   "execution_count": 13,
   "id": "b92ed1f9",
   "metadata": {},
   "outputs": [
    {
     "data": {
      "image/png": "[encoded data removed]",
      "text/plain": [
       "<Figure size 864x360 with 1 Axes>"
      ]
     },
     "metadata": {
      "needs_background": "light"
     },
     "output_type": "display_data"
    },
    {
     "data": {
      "image/png": "[encoded data removed]",
      "text/plain": [
       "<Figure size 864x360 with 1 Axes>"
      ]
     },
     "metadata": {
      "needs_background": "light"
     },
     "output_type": "display_data"
    },
    {
     "data": {
      "image/png": "[encoded data removed]",
      "text/plain": [
       "<Figure size 864x360 with 1 Axes>"
      ]
     },
     "metadata": {
      "needs_background": "light"
     },
     "output_type": "display_data"
    },
    {
     "data": {
      "image/png": "[encoded data removed]",
      "text/plain": [
       "<Figure size 864x360 with 1 Axes>"
      ]
     },
     "metadata": {
      "needs_background": "light"
     },
     "output_type": "display_data"
    },
    {
     "data": {
      "image/png": "[encoded data removed]",
      "text/plain": [
       "<Figure size 864x360 with 1 Axes>"
      ]
     },
     "metadata": {
      "needs_background": "light"
     },
     "output_type": "display_data"
    },
    {
     "data": {
      "image/png": "[encoded data removed]",
      "text/plain": [
       "<Figure size 864x360 with 1 Axes>"
      ]
     },
     "metadata": {
      "needs_background": "light"
     },
     "output_type": "display_data"
    },
    {
     "data": {
      "image/png": "[encoded data removed]",
      "text/plain": [
       "<Figure size 864x360 with 1 Axes>"
      ]
     },
     "metadata": {
      "needs_background": "light"
     },
     "output_type": "display_data"
    }
   ],
   "source": [
    "for i in df_ori_group['decade_group'].unique():\n",
    "    temp = df_ori_group[df_ori_group['decade_group'] == i].sort_values(by='popularity',ascending=False)\n",
    "    \n",
    "    \n",
    "    temp.head().plot.barh(x='genre_name', y='popularity', colormap='Set1',legend=False,figsize=(12, 5),title=f\"DECADE GROUP {i}\")\n",
    " \n",
    "    plt.show()\n"
   ]
  },
  {
   "cell_type": "code",
   "execution_count": null,
   "id": "38df4ec0",
   "metadata": {},
   "outputs": [],
   "source": []
  },
  {
   "cell_type": "code",
   "execution_count": 14,
   "id": "61362ce5",
   "metadata": {},
   "outputs": [
    {
     "name": "stdout",
     "output_type": "stream",
     "text": [
      "album rock\n",
      "classic rock\n",
      "alternative pop rock\n",
      "modern rock\n",
      "alternative rock\n",
      "garage rock\n",
      "modern folk rock\n",
      "irish rock\n",
      "art rock\n",
      "danish pop rock\n",
      "celtic rock\n",
      "dutch rock\n",
      "blues rock\n",
      "belgian rock\n",
      "soft rock\n",
      "dance rock\n",
      "australian rock\n",
      "rock-and-roll\n",
      "glam rock\n",
      "hard rock\n",
      "australian alternative rock\n",
      "yacht rock\n",
      "classic canadian rock\n",
      "classical rock\n",
      "canadian rock\n",
      "german pop rock\n",
      "british alternative rock\n",
      "german alternative rock\n",
      "\n",
      "rock appeared 28 times in genres\n"
     ]
    }
   ],
   "source": [
    "total_rock = 0\n",
    "for i in df_ori['genre_name'].unique():\n",
    "    if 'rock' in i:\n",
    "        print(i)\n",
    "        total_rock +=1\n",
    "print(f'\\nrock appeared {total_rock} times in genres')"
   ]
  },
  {
   "cell_type": "code",
   "execution_count": 15,
   "id": "df3eaa75",
   "metadata": {},
   "outputs": [
    {
     "name": "stdout",
     "output_type": "stream",
     "text": [
      "adult standards\n",
      "album rock\n",
      "alternative hip hop\n",
      "alternative metal\n",
      "classic rock\n",
      "alternative pop rock\n",
      "modern rock\n",
      "detroit hip hop\n",
      "alternative rock\n",
      "dutch indie\n",
      "garage rock\n",
      "dutch cabaret\n",
      "permanent wave\n",
      "classic uk pop\n",
      "dance pop\n",
      "modern folk rock\n",
      "dutch pop\n",
      "dutch americana\n",
      "alternative dance\n",
      "german pop\n",
      "british soul\n",
      "irish rock\n",
      "big room\n",
      "art rock\n",
      "danish pop rock\n",
      "neo mellow\n",
      "boy band\n",
      "carnaval limburg\n",
      "arkansas country\n",
      "latin alternative\n",
      "british folk\n",
      "celtic rock\n",
      "hip pop\n",
      "east coast hip hop\n",
      "dutch rock\n",
      "blues rock\n",
      "australian pop\n",
      "belgian rock\n",
      "reggae fusion\n",
      "british invasion\n",
      "finnish metal\n",
      "canadian pop\n",
      "bow pop\n",
      "dutch hip hop\n",
      "dutch metal\n",
      "soft rock\n",
      "acoustic pop\n",
      "acid jazz\n",
      "dutch prog\n",
      "candy pop\n",
      "operatic pop\n",
      "scottish singer-songwriter\n",
      "mellow gold\n",
      "alternative pop\n",
      "dance rock\n",
      "atl hip hop\n",
      "canadian folk\n",
      "big beat\n",
      "art pop\n",
      "uk pop\n",
      "glam metal\n",
      "brill building pop\n",
      "g funk\n",
      "happy hardcore\n",
      "belgian pop\n",
      "classic schlager\n",
      "contemporary country\n",
      "barbadian pop\n",
      "chamber pop\n",
      "british singer-songwriter\n",
      "indie pop\n",
      "australian rock\n",
      "australian indie folk\n",
      "irish pop\n",
      "alaska indie\n",
      "irish singer-songwriter\n",
      "stomp and holler\n",
      "australian dance\n",
      "australian psych\n",
      "contemporary vocal jazz\n",
      "glam rock\n",
      "classic soundtrack\n",
      "icelandic indie\n",
      "danish pop\n",
      "compositional ambient\n",
      "neo soul\n",
      "italian pop\n",
      "indie anthem-folk\n",
      "la pop\n",
      "baroque pop\n",
      "electro house\n",
      "australian americana\n",
      "chicago soul\n",
      "classic soul\n",
      "bubblegum pop\n",
      "classic country pop\n",
      "hard rock\n",
      "australian alternative rock\n",
      "yacht rock\n",
      "alternative country\n",
      "celtic punk\n",
      "new wave pop\n",
      "classic canadian rock\n",
      "gangster rap\n",
      "diva house\n",
      "classical rock\n",
      "canadian rock\n",
      "german pop rock\n",
      "british alternative rock\n",
      "latin jazz\n",
      "german alternative rock\n",
      "classic italian pop\n",
      "pop punk\n"
     ]
    }
   ],
   "source": [
    "for i in df_ori['genre_name'].unique():\n",
    "    if len(i.split()) > 1:\n",
    "        print(i)"
   ]
  },
  {
   "cell_type": "code",
   "execution_count": 16,
   "id": "05b76002",
   "metadata": {},
   "outputs": [],
   "source": [
    "def genre_colaspe(genre_att):\n",
    "    genres = 'rock metal pop jazz soul blues punk country folk funk\\\n",
    "    rap house dance dutch indie singer-songwriter latin reggae'.split()\n",
    "    genres.append('hip hop')\n",
    "    #print(genres)\n",
    "    \n",
    "    for genre in genres:\n",
    "        if genre in genre_att:\n",
    "            return genre\n",
    "    return genre_att\n"
   ]
  },
  {
   "cell_type": "code",
   "execution_count": null,
   "id": "3ccb2e84",
   "metadata": {},
   "outputs": [],
   "source": []
  },
  {
   "cell_type": "code",
   "execution_count": 17,
   "id": "fd105ca1",
   "metadata": {},
   "outputs": [],
   "source": [
    "df_ori2 = df_ori.copy()\n",
    "df_ori2['genre_name'] = df_ori['genre_name'].apply(genre_colaspe)"
   ]
  },
  {
   "cell_type": "code",
   "execution_count": 18,
   "id": "7daa19b3",
   "metadata": {},
   "outputs": [
    {
     "data": {
      "text/plain": [
       "149"
      ]
     },
     "execution_count": 18,
     "metadata": {},
     "output_type": "execute_result"
    }
   ],
   "source": [
    "df_ori['genre_name'].nunique()"
   ]
  },
  {
   "cell_type": "code",
   "execution_count": 19,
   "id": "ea77eafd",
   "metadata": {},
   "outputs": [
    {
     "data": {
      "text/plain": [
       "53"
      ]
     },
     "execution_count": 19,
     "metadata": {},
     "output_type": "execute_result"
    }
   ],
   "source": [
    "df_ori2['genre_name'].nunique()"
   ]
  },
  {
   "cell_type": "code",
   "execution_count": 20,
   "id": "eeb95277",
   "metadata": {},
   "outputs": [
    {
     "data": {
      "text/plain": [
       "array(['adult standards', 'album rock', 'alternative hip hop',\n",
       "       'alternative metal', 'classic rock', 'alternative pop rock', 'pop',\n",
       "       'modern rock', 'detroit hip hop', 'alternative rock',\n",
       "       'dutch indie', 'garage rock', 'dutch cabaret', 'permanent wave',\n",
       "       'classic uk pop', 'dance pop', 'modern folk rock', 'dutch pop',\n",
       "       'dutch americana', 'alternative dance', 'german pop', 'afropop',\n",
       "       'british soul', 'irish rock', 'disco', 'big room', 'art rock',\n",
       "       'danish pop rock', 'neo mellow', 'britpop', 'boy band',\n",
       "       'carnaval limburg', 'arkansas country', 'latin alternative',\n",
       "       'british folk', 'celtic', 'chanson', 'celtic rock', 'hip pop',\n",
       "       'east coast hip hop', 'dutch rock', 'blues rock', 'electro',\n",
       "       'australian pop', 'belgian rock', 'downtempo', 'reggae fusion',\n",
       "       'british invasion', 'finnish metal', 'canadian pop', 'bow pop',\n",
       "       'dutch hip hop', 'dutch metal', 'soft rock', 'acoustic pop',\n",
       "       'acid jazz', 'dutch prog', 'candy pop', 'operatic pop', 'trance',\n",
       "       'scottish singer-songwriter', 'mellow gold', 'alternative pop',\n",
       "       'dance rock', 'atl hip hop', 'eurodance', 'blues', 'canadian folk',\n",
       "       'big beat', 'art pop', 'uk pop', 'glam metal',\n",
       "       'brill building pop', 'g funk', 'happy hardcore', 'belgian pop',\n",
       "       'classic schlager', 'contemporary country', 'barbadian pop',\n",
       "       'gabba', 'chamber pop', 'british singer-songwriter', 'indie pop',\n",
       "       'australian rock', 'nederpop', 'australian indie folk', 'folk-pop',\n",
       "       'electropop', 'edm', 'metropopolis', 'irish pop', 'electronica',\n",
       "       'alaska indie', 'irish singer-songwriter', 'stomp and holler',\n",
       "       'australian dance', 'australian psych', 'laboratorio',\n",
       "       'contemporary vocal jazz', 'rock-and-roll', 'glam rock',\n",
       "       'classic soundtrack', 'icelandic indie', 'danish pop',\n",
       "       'compositional ambient', 'neo soul', 'streektaal', 'italian pop',\n",
       "       'indie anthem-folk', 'la pop', 'baroque pop', 'ccm',\n",
       "       'electro house', 'austropop', 'australian americana', 'latin',\n",
       "       'chicago soul', 'classic soul', 'bubblegum pop',\n",
       "       'classic country pop', 'europop', 'hard rock', 'reggae', 'j-core',\n",
       "       'funk', 'folk', 'punk', 'basshall', 'australian alternative rock',\n",
       "       'yacht rock', 'alternative country', 'celtic punk', 'new wave pop',\n",
       "       'classic canadian rock', 'christelijk', 'levenslied', 'cyberpunk',\n",
       "       'gangster rap', 'diva house', 'classical rock', 'canadian rock',\n",
       "       'german pop rock', 'british alternative rock', 'latin jazz',\n",
       "       'german alternative rock', 'classic italian pop', 'pop punk',\n",
       "       'motown', 'bebop'], dtype=object)"
      ]
     },
     "execution_count": 20,
     "metadata": {},
     "output_type": "execute_result"
    }
   ],
   "source": [
    "df_ori['genre_name'].unique()"
   ]
  },
  {
   "cell_type": "code",
   "execution_count": 21,
   "id": "5e4a0aa8",
   "metadata": {},
   "outputs": [
    {
     "data": {
      "text/plain": [
       "array(['adult standards', 'rock', 'hip hop', 'metal', 'pop', 'dutch',\n",
       "       'permanent wave', 'dance', 'soul', 'disco', 'big room',\n",
       "       'neo mellow', 'boy band', 'carnaval limburg', 'country', 'latin',\n",
       "       'folk', 'celtic', 'chanson', 'electro', 'downtempo', 'reggae',\n",
       "       'british invasion', 'jazz', 'trance', 'singer-songwriter',\n",
       "       'mellow gold', 'blues', 'big beat', 'funk', 'happy hardcore',\n",
       "       'classic schlager', 'gabba', 'edm', 'electronica', 'indie',\n",
       "       'stomp and holler', 'australian psych', 'laboratorio',\n",
       "       'classic soundtrack', 'compositional ambient', 'streektaal', 'ccm',\n",
       "       'house', 'australian americana', 'j-core', 'punk', 'basshall',\n",
       "       'christelijk', 'levenslied', 'rap', 'motown', 'bebop'],\n",
       "      dtype=object)"
      ]
     },
     "execution_count": 21,
     "metadata": {},
     "output_type": "execute_result"
    }
   ],
   "source": [
    "df_ori2['genre_name'].unique()"
   ]
  },
  {
   "cell_type": "code",
   "execution_count": 22,
   "id": "f675226c",
   "metadata": {},
   "outputs": [
    {
     "data": {
      "text/plain": [
       "['01-10', '10-19', '65-76', '92-01', '55-65', '75-83', '83-92']\n",
       "Categories (7, object): ['55-65' < '65-76' < '75-83' < '83-92' < '92-01' < '01-10' < '10-19']"
      ]
     },
     "execution_count": 22,
     "metadata": {},
     "output_type": "execute_result"
    }
   ],
   "source": [
    "labels = '55-65 65-76 75-83 83-92 92-01 01-10 10-19'.split()\n",
    "df_new['decade_group'] = pd.cut(df_ori['year'],bins=7,labels=labels)\n",
    "df_new['decade_group'].unique()"
   ]
  },
  {
   "cell_type": "code",
   "execution_count": 23,
   "id": "2477a8fb",
   "metadata": {},
   "outputs": [
    {
     "data": {
      "text/html": [
       "<div>\n",
       "<style scoped>\n",
       "    .dataframe tbody tr th:only-of-type {\n",
       "        vertical-align: middle;\n",
       "    }\n",
       "\n",
       "    .dataframe tbody tr th {\n",
       "        vertical-align: top;\n",
       "    }\n",
       "\n",
       "    .dataframe thead th {\n",
       "        text-align: right;\n",
       "    }\n",
       "</style>\n",
       "<table border=\"1\" class=\"dataframe\">\n",
       "  <thead>\n",
       "    <tr style=\"text-align: right;\">\n",
       "      <th></th>\n",
       "      <th>decade_group</th>\n",
       "      <th>genre_name</th>\n",
       "      <th>song_id</th>\n",
       "      <th>year</th>\n",
       "      <th>artist_id</th>\n",
       "      <th>genre_id</th>\n",
       "      <th>bpm</th>\n",
       "      <th>energy</th>\n",
       "      <th>danceability</th>\n",
       "      <th>db</th>\n",
       "      <th>liveness</th>\n",
       "      <th>valence</th>\n",
       "      <th>length</th>\n",
       "      <th>acousticness</th>\n",
       "      <th>speechiness</th>\n",
       "      <th>popularity</th>\n",
       "    </tr>\n",
       "  </thead>\n",
       "  <tbody>\n",
       "    <tr>\n",
       "      <th>0</th>\n",
       "      <td>55-65</td>\n",
       "      <td>adult standards</td>\n",
       "      <td>1896.833333</td>\n",
       "      <td>1960.944444</td>\n",
       "      <td>349.611111</td>\n",
       "      <td>0.0</td>\n",
       "      <td>117.111111</td>\n",
       "      <td>35.666667</td>\n",
       "      <td>46.222222</td>\n",
       "      <td>-12.111111</td>\n",
       "      <td>17.388889</td>\n",
       "      <td>54.666667</td>\n",
       "      <td>181.388889</td>\n",
       "      <td>71.000000</td>\n",
       "      <td>4.666667</td>\n",
       "      <td>68.000000</td>\n",
       "    </tr>\n",
       "    <tr>\n",
       "      <th>16</th>\n",
       "      <td>55-65</td>\n",
       "      <td>rock</td>\n",
       "      <td>575.500000</td>\n",
       "      <td>2003.750000</td>\n",
       "      <td>135.250000</td>\n",
       "      <td>1.0</td>\n",
       "      <td>121.833333</td>\n",
       "      <td>72.000000</td>\n",
       "      <td>43.083333</td>\n",
       "      <td>-6.916667</td>\n",
       "      <td>26.583333</td>\n",
       "      <td>44.750000</td>\n",
       "      <td>251.500000</td>\n",
       "      <td>14.333333</td>\n",
       "      <td>3.833333</td>\n",
       "      <td>59.333333</td>\n",
       "    </tr>\n",
       "    <tr>\n",
       "      <th>14</th>\n",
       "      <td>55-65</td>\n",
       "      <td>pop</td>\n",
       "      <td>1457.000000</td>\n",
       "      <td>1988.500000</td>\n",
       "      <td>572.500000</td>\n",
       "      <td>4.0</td>\n",
       "      <td>140.250000</td>\n",
       "      <td>47.250000</td>\n",
       "      <td>45.500000</td>\n",
       "      <td>-7.750000</td>\n",
       "      <td>15.250000</td>\n",
       "      <td>30.000000</td>\n",
       "      <td>291.500000</td>\n",
       "      <td>41.500000</td>\n",
       "      <td>3.250000</td>\n",
       "      <td>52.250000</td>\n",
       "    </tr>\n",
       "    <tr>\n",
       "      <th>6</th>\n",
       "      <td>55-65</td>\n",
       "      <td>dutch</td>\n",
       "      <td>552.100000</td>\n",
       "      <td>2003.700000</td>\n",
       "      <td>110.500000</td>\n",
       "      <td>5.0</td>\n",
       "      <td>108.800000</td>\n",
       "      <td>35.800000</td>\n",
       "      <td>46.600000</td>\n",
       "      <td>-11.400000</td>\n",
       "      <td>21.400000</td>\n",
       "      <td>36.900000</td>\n",
       "      <td>214.600000</td>\n",
       "      <td>65.100000</td>\n",
       "      <td>4.100000</td>\n",
       "      <td>38.500000</td>\n",
       "    </tr>\n",
       "    <tr>\n",
       "      <th>31</th>\n",
       "      <td>65-76</td>\n",
       "      <td>permanent wave</td>\n",
       "      <td>622.000000</td>\n",
       "      <td>2015.000000</td>\n",
       "      <td>16.000000</td>\n",
       "      <td>6.0</td>\n",
       "      <td>90.000000</td>\n",
       "      <td>74.000000</td>\n",
       "      <td>49.000000</td>\n",
       "      <td>-5.000000</td>\n",
       "      <td>30.000000</td>\n",
       "      <td>36.000000</td>\n",
       "      <td>259.000000</td>\n",
       "      <td>26.000000</td>\n",
       "      <td>4.000000</td>\n",
       "      <td>78.000000</td>\n",
       "    </tr>\n",
       "    <tr>\n",
       "      <th>...</th>\n",
       "      <td>...</td>\n",
       "      <td>...</td>\n",
       "      <td>...</td>\n",
       "      <td>...</td>\n",
       "      <td>...</td>\n",
       "      <td>...</td>\n",
       "      <td>...</td>\n",
       "      <td>...</td>\n",
       "      <td>...</td>\n",
       "      <td>...</td>\n",
       "      <td>...</td>\n",
       "      <td>...</td>\n",
       "      <td>...</td>\n",
       "      <td>...</td>\n",
       "      <td>...</td>\n",
       "      <td>...</td>\n",
       "    </tr>\n",
       "    <tr>\n",
       "      <th>122</th>\n",
       "      <td>10-19</td>\n",
       "      <td>pop</td>\n",
       "      <td>764.062992</td>\n",
       "      <td>2003.228346</td>\n",
       "      <td>221.039370</td>\n",
       "      <td>4.0</td>\n",
       "      <td>123.039370</td>\n",
       "      <td>60.070866</td>\n",
       "      <td>56.826772</td>\n",
       "      <td>-8.102362</td>\n",
       "      <td>16.992126</td>\n",
       "      <td>48.299213</td>\n",
       "      <td>256.929134</td>\n",
       "      <td>29.141732</td>\n",
       "      <td>5.086614</td>\n",
       "      <td>56.551181</td>\n",
       "    </tr>\n",
       "    <tr>\n",
       "      <th>110</th>\n",
       "      <td>10-19</td>\n",
       "      <td>british invasion</td>\n",
       "      <td>792.583333</td>\n",
       "      <td>1992.166667</td>\n",
       "      <td>135.000000</td>\n",
       "      <td>14.0</td>\n",
       "      <td>103.500000</td>\n",
       "      <td>47.416667</td>\n",
       "      <td>55.916667</td>\n",
       "      <td>-10.250000</td>\n",
       "      <td>32.000000</td>\n",
       "      <td>58.750000</td>\n",
       "      <td>198.916667</td>\n",
       "      <td>52.083333</td>\n",
       "      <td>3.500000</td>\n",
       "      <td>54.166667</td>\n",
       "    </tr>\n",
       "    <tr>\n",
       "      <th>108</th>\n",
       "      <td>10-19</td>\n",
       "      <td>adult standards</td>\n",
       "      <td>620.750000</td>\n",
       "      <td>2014.750000</td>\n",
       "      <td>238.000000</td>\n",
       "      <td>0.0</td>\n",
       "      <td>121.250000</td>\n",
       "      <td>47.000000</td>\n",
       "      <td>39.000000</td>\n",
       "      <td>-7.250000</td>\n",
       "      <td>17.000000</td>\n",
       "      <td>35.250000</td>\n",
       "      <td>238.750000</td>\n",
       "      <td>65.250000</td>\n",
       "      <td>3.500000</td>\n",
       "      <td>50.250000</td>\n",
       "    </tr>\n",
       "    <tr>\n",
       "      <th>114</th>\n",
       "      <td>10-19</td>\n",
       "      <td>dutch</td>\n",
       "      <td>925.333333</td>\n",
       "      <td>2004.500000</td>\n",
       "      <td>194.466667</td>\n",
       "      <td>5.0</td>\n",
       "      <td>120.333333</td>\n",
       "      <td>50.833333</td>\n",
       "      <td>54.200000</td>\n",
       "      <td>-10.033333</td>\n",
       "      <td>25.266667</td>\n",
       "      <td>46.266667</td>\n",
       "      <td>233.800000</td>\n",
       "      <td>42.233333</td>\n",
       "      <td>5.466667</td>\n",
       "      <td>45.700000</td>\n",
       "    </tr>\n",
       "    <tr>\n",
       "      <th>123</th>\n",
       "      <td>10-19</td>\n",
       "      <td>reggae</td>\n",
       "      <td>485.428571</td>\n",
       "      <td>2004.571429</td>\n",
       "      <td>117.714286</td>\n",
       "      <td>13.0</td>\n",
       "      <td>143.428571</td>\n",
       "      <td>48.285714</td>\n",
       "      <td>38.000000</td>\n",
       "      <td>-9.285714</td>\n",
       "      <td>15.714286</td>\n",
       "      <td>38.428571</td>\n",
       "      <td>233.142857</td>\n",
       "      <td>41.000000</td>\n",
       "      <td>4.428571</td>\n",
       "      <td>38.142857</td>\n",
       "    </tr>\n",
       "  </tbody>\n",
       "</table>\n",
       "<p>76 rows × 16 columns</p>\n",
       "</div>"
      ],
      "text/plain": [
       "    decade_group        genre_name      song_id         year   artist_id  \\\n",
       "0          55-65   adult standards  1896.833333  1960.944444  349.611111   \n",
       "16         55-65              rock   575.500000  2003.750000  135.250000   \n",
       "14         55-65               pop  1457.000000  1988.500000  572.500000   \n",
       "6          55-65             dutch   552.100000  2003.700000  110.500000   \n",
       "31         65-76    permanent wave   622.000000  2015.000000   16.000000   \n",
       "..           ...               ...          ...          ...         ...   \n",
       "122        10-19               pop   764.062992  2003.228346  221.039370   \n",
       "110        10-19  british invasion   792.583333  1992.166667  135.000000   \n",
       "108        10-19   adult standards   620.750000  2014.750000  238.000000   \n",
       "114        10-19             dutch   925.333333  2004.500000  194.466667   \n",
       "123        10-19            reggae   485.428571  2004.571429  117.714286   \n",
       "\n",
       "     genre_id         bpm     energy  danceability         db   liveness  \\\n",
       "0         0.0  117.111111  35.666667     46.222222 -12.111111  17.388889   \n",
       "16        1.0  121.833333  72.000000     43.083333  -6.916667  26.583333   \n",
       "14        4.0  140.250000  47.250000     45.500000  -7.750000  15.250000   \n",
       "6         5.0  108.800000  35.800000     46.600000 -11.400000  21.400000   \n",
       "31        6.0   90.000000  74.000000     49.000000  -5.000000  30.000000   \n",
       "..        ...         ...        ...           ...        ...        ...   \n",
       "122       4.0  123.039370  60.070866     56.826772  -8.102362  16.992126   \n",
       "110      14.0  103.500000  47.416667     55.916667 -10.250000  32.000000   \n",
       "108       0.0  121.250000  47.000000     39.000000  -7.250000  17.000000   \n",
       "114       5.0  120.333333  50.833333     54.200000 -10.033333  25.266667   \n",
       "123      13.0  143.428571  48.285714     38.000000  -9.285714  15.714286   \n",
       "\n",
       "       valence      length  acousticness  speechiness  popularity  \n",
       "0    54.666667  181.388889     71.000000     4.666667   68.000000  \n",
       "16   44.750000  251.500000     14.333333     3.833333   59.333333  \n",
       "14   30.000000  291.500000     41.500000     3.250000   52.250000  \n",
       "6    36.900000  214.600000     65.100000     4.100000   38.500000  \n",
       "31   36.000000  259.000000     26.000000     4.000000   78.000000  \n",
       "..         ...         ...           ...          ...         ...  \n",
       "122  48.299213  256.929134     29.141732     5.086614   56.551181  \n",
       "110  58.750000  198.916667     52.083333     3.500000   54.166667  \n",
       "108  35.250000  238.750000     65.250000     3.500000   50.250000  \n",
       "114  46.266667  233.800000     42.233333     5.466667   45.700000  \n",
       "123  38.428571  233.142857     41.000000     4.428571   38.142857  \n",
       "\n",
       "[76 rows x 16 columns]"
      ]
     },
     "execution_count": 23,
     "metadata": {},
     "output_type": "execute_result"
    }
   ],
   "source": [
    "df_new_group = df_new.groupby(['decade_group','genre_name'],as_index=False).mean()\\\n",
    ".sort_values(by=['decade_group','popularity'], ascending=[True,False]).dropna()\n",
    "\n",
    "\n",
    "df_new_group"
   ]
  },
  {
   "cell_type": "code",
   "execution_count": 24,
   "id": "f9525bd3",
   "metadata": {},
   "outputs": [
    {
     "data": {
      "image/png": "[encoded data removed]",
      "text/plain": [
       "<Figure size 864x360 with 1 Axes>"
      ]
     },
     "metadata": {
      "needs_background": "light"
     },
     "output_type": "display_data"
    },
    {
     "data": {
      "image/png": "[encoded data removed]",
      "text/plain": [
       "<Figure size 864x360 with 1 Axes>"
      ]
     },
     "metadata": {
      "needs_background": "light"
     },
     "output_type": "display_data"
    },
    {
     "data": {
      "image/png": "[encoded data removed]",
      "text/plain": [
       "<Figure size 864x360 with 1 Axes>"
      ]
     },
     "metadata": {
      "needs_background": "light"
     },
     "output_type": "display_data"
    },
    {
     "data": {
      "image/png": "[encoded data removed]",
      "text/plain": [
       "<Figure size 864x360 with 1 Axes>"
      ]
     },
     "metadata": {
      "needs_background": "light"
     },
     "output_type": "display_data"
    },
    {
     "data": {
      "image/png": "[encoded data removed]",
      "text/plain": [
       "<Figure size 864x360 with 1 Axes>"
      ]
     },
     "metadata": {
      "needs_background": "light"
     },
     "output_type": "display_data"
    },
    {
     "data": {
      "image/png": "[encoded data removed]",
      "text/plain": [
       "<Figure size 864x360 with 1 Axes>"
      ]
     },
     "metadata": {
      "needs_background": "light"
     },
     "output_type": "display_data"
    },
    {
     "data": {
      "image/png": "[encoded data removed]",
      "text/plain": [
       "<Figure size 864x360 with 1 Axes>"
      ]
     },
     "metadata": {
      "needs_background": "light"
     },
     "output_type": "display_data"
    }
   ],
   "source": [
    "for i in df_new_group['decade_group'].unique():\n",
    "    temp = df_new_group[df_new_group['decade_group'] == i].sort_values(by='popularity',ascending=False)\n",
    "    # print(temp['popularity'])\n",
    "    \n",
    "    temp.head().plot.barh(x='genre_name',y='popularity', colormap='Set3',legend=False,figsize=(12, 5),title=f\"NEW DECADE GROUP {i}\")\n",
    " \n",
    "    plt.show()\n"
   ]
  },
  {
   "cell_type": "code",
   "execution_count": null,
   "id": "d6f35b55",
   "metadata": {},
   "outputs": [],
   "source": []
  },
  {
   "cell_type": "code",
   "execution_count": null,
   "id": "c448d7d9",
   "metadata": {},
   "outputs": [],
   "source": []
  },
  {
   "cell_type": "code",
   "execution_count": null,
   "id": "4a7af06d",
   "metadata": {},
   "outputs": [],
   "source": []
  },
  {
   "cell_type": "code",
   "execution_count": null,
   "id": "725fcbab",
   "metadata": {},
   "outputs": [],
   "source": []
  },
  {
   "cell_type": "code",
   "execution_count": null,
   "id": "81479a48",
   "metadata": {},
   "outputs": [],
   "source": []
  }
 ],
 "metadata": {
  "kernelspec": {
   "display_name": "Python 3 (ipykernel)",
   "language": "python",
   "name": "python3"
  },
  "language_info": {
   "codemirror_mode": {
    "name": "ipython",
    "version": 3
   },
   "file_extension": ".py",
   "mimetype": "text/x-python",
   "name": "python",
   "nbconvert_exporter": "python",
   "pygments_lexer": "ipython3",
   "version": "3.9.12"
  }
 },
 "nbformat": 4,
 "nbformat_minor": 5
}

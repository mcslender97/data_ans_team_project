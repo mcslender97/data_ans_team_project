{
 "cells": [
  {
   "cell_type": "code",
   "execution_count": 9,
   "id": "6bc424f0",
   "metadata": {},
   "outputs": [],
   "source": [
    "import pandas as pd\n",
    "import sqlite3\n",
    "import matplotlib.pyplot as plt\n",
    "import seaborn as sns\n",
    "from sqlalchemy import create_engine"
   ]
  },
  {
   "cell_type": "code",
   "execution_count": 2,
   "id": "4132f9ed",
   "metadata": {},
   "outputs": [],
   "source": [
    "my_conn=sqlite3.connect('./data.db')\n"
   ]
  },
  {
   "cell_type": "code",
   "execution_count": 3,
   "id": "67968ead",
   "metadata": {},
   "outputs": [
    {
     "data": {
      "text/html": [
       "<div>\n",
       "<style scoped>\n",
       "    .dataframe tbody tr th:only-of-type {\n",
       "        vertical-align: middle;\n",
       "    }\n",
       "\n",
       "    .dataframe tbody tr th {\n",
       "        vertical-align: top;\n",
       "    }\n",
       "\n",
       "    .dataframe thead th {\n",
       "        text-align: right;\n",
       "    }\n",
       "</style>\n",
       "<table border=\"1\" class=\"dataframe\">\n",
       "  <thead>\n",
       "    <tr style=\"text-align: right;\">\n",
       "      <th></th>\n",
       "      <th>artist_id</th>\n",
       "      <th>artist_name</th>\n",
       "    </tr>\n",
       "  </thead>\n",
       "  <tbody>\n",
       "    <tr>\n",
       "      <th>0</th>\n",
       "      <td>0</td>\n",
       "      <td>Norah Jones</td>\n",
       "    </tr>\n",
       "    <tr>\n",
       "      <th>1</th>\n",
       "      <td>1</td>\n",
       "      <td>Deep Purple</td>\n",
       "    </tr>\n",
       "    <tr>\n",
       "      <th>2</th>\n",
       "      <td>2</td>\n",
       "      <td>Gorillaz</td>\n",
       "    </tr>\n",
       "    <tr>\n",
       "      <th>3</th>\n",
       "      <td>3</td>\n",
       "      <td>Foo Fighters</td>\n",
       "    </tr>\n",
       "    <tr>\n",
       "      <th>4</th>\n",
       "      <td>4</td>\n",
       "      <td>Bruce Springsteen</td>\n",
       "    </tr>\n",
       "  </tbody>\n",
       "</table>\n",
       "</div>"
      ],
      "text/plain": [
       "   artist_id        artist_name\n",
       "0          0        Norah Jones\n",
       "1          1        Deep Purple\n",
       "2          2           Gorillaz\n",
       "3          3       Foo Fighters\n",
       "4          4  Bruce Springsteen"
      ]
     },
     "execution_count": 3,
     "metadata": {},
     "output_type": "execute_result"
    }
   ],
   "source": [
    "df_artists = pd.read_sql_query('SELECT * FROM artist',con=my_conn)\n",
    "\n",
    "df_artists.head()"
   ]
  },
  {
   "cell_type": "code",
   "execution_count": 4,
   "id": "be15b229",
   "metadata": {},
   "outputs": [
    {
     "data": {
      "text/html": [
       "<div>\n",
       "<style scoped>\n",
       "    .dataframe tbody tr th:only-of-type {\n",
       "        vertical-align: middle;\n",
       "    }\n",
       "\n",
       "    .dataframe tbody tr th {\n",
       "        vertical-align: top;\n",
       "    }\n",
       "\n",
       "    .dataframe thead th {\n",
       "        text-align: right;\n",
       "    }\n",
       "</style>\n",
       "<table border=\"1\" class=\"dataframe\">\n",
       "  <thead>\n",
       "    <tr style=\"text-align: right;\">\n",
       "      <th></th>\n",
       "      <th>song_id</th>\n",
       "      <th>title</th>\n",
       "      <th>year</th>\n",
       "      <th>artist_id</th>\n",
       "      <th>genre_id</th>\n",
       "    </tr>\n",
       "  </thead>\n",
       "  <tbody>\n",
       "    <tr>\n",
       "      <th>0</th>\n",
       "      <td>0</td>\n",
       "      <td>Sunrise</td>\n",
       "      <td>2004</td>\n",
       "      <td>0</td>\n",
       "      <td>0</td>\n",
       "    </tr>\n",
       "    <tr>\n",
       "      <th>1</th>\n",
       "      <td>33</td>\n",
       "      <td>Don't Know Why</td>\n",
       "      <td>2002</td>\n",
       "      <td>0</td>\n",
       "      <td>0</td>\n",
       "    </tr>\n",
       "    <tr>\n",
       "      <th>2</th>\n",
       "      <td>10</td>\n",
       "      <td>Love Me Tender</td>\n",
       "      <td>2002</td>\n",
       "      <td>10</td>\n",
       "      <td>0</td>\n",
       "    </tr>\n",
       "    <tr>\n",
       "      <th>3</th>\n",
       "      <td>144</td>\n",
       "      <td>A Little Less Conversation - JXL Radio Edit Remix</td>\n",
       "      <td>2002</td>\n",
       "      <td>10</td>\n",
       "      <td>0</td>\n",
       "    </tr>\n",
       "    <tr>\n",
       "      <th>4</th>\n",
       "      <td>387</td>\n",
       "      <td>(You're The) Devil in Disguise</td>\n",
       "      <td>2002</td>\n",
       "      <td>10</td>\n",
       "      <td>0</td>\n",
       "    </tr>\n",
       "  </tbody>\n",
       "</table>\n",
       "</div>"
      ],
      "text/plain": [
       "   song_id                                              title  year  \\\n",
       "0        0                                            Sunrise  2004   \n",
       "1       33                                     Don't Know Why  2002   \n",
       "2       10                                     Love Me Tender  2002   \n",
       "3      144  A Little Less Conversation - JXL Radio Edit Remix  2002   \n",
       "4      387                     (You're The) Devil in Disguise  2002   \n",
       "\n",
       "   artist_id  genre_id  \n",
       "0          0         0  \n",
       "1          0         0  \n",
       "2         10         0  \n",
       "3         10         0  \n",
       "4         10         0  "
      ]
     },
     "execution_count": 4,
     "metadata": {},
     "output_type": "execute_result"
    }
   ],
   "source": [
    "df_songs = pd.read_sql_query('SELECT * FROM songs',con=my_conn)\n",
    "df_songs.head()"
   ]
  },
  {
   "cell_type": "code",
   "execution_count": 5,
   "id": "c9bfe849",
   "metadata": {},
   "outputs": [
    {
     "data": {
      "text/html": [
       "<div>\n",
       "<style scoped>\n",
       "    .dataframe tbody tr th:only-of-type {\n",
       "        vertical-align: middle;\n",
       "    }\n",
       "\n",
       "    .dataframe tbody tr th {\n",
       "        vertical-align: top;\n",
       "    }\n",
       "\n",
       "    .dataframe thead th {\n",
       "        text-align: right;\n",
       "    }\n",
       "</style>\n",
       "<table border=\"1\" class=\"dataframe\">\n",
       "  <thead>\n",
       "    <tr style=\"text-align: right;\">\n",
       "      <th></th>\n",
       "      <th>song_id</th>\n",
       "      <th>bpm</th>\n",
       "      <th>energy</th>\n",
       "      <th>danceability</th>\n",
       "      <th>db</th>\n",
       "      <th>liveness</th>\n",
       "      <th>valence</th>\n",
       "      <th>length</th>\n",
       "      <th>acousticness</th>\n",
       "      <th>speechiness</th>\n",
       "      <th>popularity</th>\n",
       "    </tr>\n",
       "  </thead>\n",
       "  <tbody>\n",
       "    <tr>\n",
       "      <th>0</th>\n",
       "      <td>0</td>\n",
       "      <td>157</td>\n",
       "      <td>30</td>\n",
       "      <td>53</td>\n",
       "      <td>-14</td>\n",
       "      <td>11</td>\n",
       "      <td>68</td>\n",
       "      <td>201</td>\n",
       "      <td>94</td>\n",
       "      <td>3</td>\n",
       "      <td>71</td>\n",
       "    </tr>\n",
       "    <tr>\n",
       "      <th>1</th>\n",
       "      <td>1</td>\n",
       "      <td>135</td>\n",
       "      <td>79</td>\n",
       "      <td>50</td>\n",
       "      <td>-11</td>\n",
       "      <td>17</td>\n",
       "      <td>81</td>\n",
       "      <td>207</td>\n",
       "      <td>17</td>\n",
       "      <td>7</td>\n",
       "      <td>39</td>\n",
       "    </tr>\n",
       "    <tr>\n",
       "      <th>2</th>\n",
       "      <td>2</td>\n",
       "      <td>168</td>\n",
       "      <td>69</td>\n",
       "      <td>66</td>\n",
       "      <td>-9</td>\n",
       "      <td>7</td>\n",
       "      <td>52</td>\n",
       "      <td>341</td>\n",
       "      <td>2</td>\n",
       "      <td>17</td>\n",
       "      <td>69</td>\n",
       "    </tr>\n",
       "    <tr>\n",
       "      <th>3</th>\n",
       "      <td>3</td>\n",
       "      <td>173</td>\n",
       "      <td>96</td>\n",
       "      <td>43</td>\n",
       "      <td>-4</td>\n",
       "      <td>3</td>\n",
       "      <td>37</td>\n",
       "      <td>269</td>\n",
       "      <td>0</td>\n",
       "      <td>4</td>\n",
       "      <td>76</td>\n",
       "    </tr>\n",
       "    <tr>\n",
       "      <th>4</th>\n",
       "      <td>4</td>\n",
       "      <td>106</td>\n",
       "      <td>82</td>\n",
       "      <td>58</td>\n",
       "      <td>-5</td>\n",
       "      <td>10</td>\n",
       "      <td>87</td>\n",
       "      <td>256</td>\n",
       "      <td>1</td>\n",
       "      <td>3</td>\n",
       "      <td>59</td>\n",
       "    </tr>\n",
       "  </tbody>\n",
       "</table>\n",
       "</div>"
      ],
      "text/plain": [
       "   song_id  bpm  energy  danceability  db  liveness  valence  length  \\\n",
       "0        0  157      30            53 -14        11       68     201   \n",
       "1        1  135      79            50 -11        17       81     207   \n",
       "2        2  168      69            66  -9         7       52     341   \n",
       "3        3  173      96            43  -4         3       37     269   \n",
       "4        4  106      82            58  -5        10       87     256   \n",
       "\n",
       "   acousticness  speechiness  popularity  \n",
       "0            94            3          71  \n",
       "1            17            7          39  \n",
       "2             2           17          69  \n",
       "3             0            4          76  \n",
       "4             1            3          59  "
      ]
     },
     "execution_count": 5,
     "metadata": {},
     "output_type": "execute_result"
    }
   ],
   "source": [
    "df_song_characteristics = pd.read_sql_query('SELECT * FROM characteristics',con=my_conn)\n",
    "df_song_characteristics.head()"
   ]
  },
  {
   "cell_type": "code",
   "execution_count": 6,
   "id": "f1272aff",
   "metadata": {},
   "outputs": [
    {
     "data": {
      "text/html": [
       "<div>\n",
       "<style scoped>\n",
       "    .dataframe tbody tr th:only-of-type {\n",
       "        vertical-align: middle;\n",
       "    }\n",
       "\n",
       "    .dataframe tbody tr th {\n",
       "        vertical-align: top;\n",
       "    }\n",
       "\n",
       "    .dataframe thead th {\n",
       "        text-align: right;\n",
       "    }\n",
       "</style>\n",
       "<table border=\"1\" class=\"dataframe\">\n",
       "  <thead>\n",
       "    <tr style=\"text-align: right;\">\n",
       "      <th></th>\n",
       "      <th>genre_id</th>\n",
       "      <th>genre_name</th>\n",
       "    </tr>\n",
       "  </thead>\n",
       "  <tbody>\n",
       "    <tr>\n",
       "      <th>0</th>\n",
       "      <td>0</td>\n",
       "      <td>adult standards</td>\n",
       "    </tr>\n",
       "    <tr>\n",
       "      <th>1</th>\n",
       "      <td>1</td>\n",
       "      <td>album rock</td>\n",
       "    </tr>\n",
       "    <tr>\n",
       "      <th>2</th>\n",
       "      <td>2</td>\n",
       "      <td>alternative hip hop</td>\n",
       "    </tr>\n",
       "    <tr>\n",
       "      <th>3</th>\n",
       "      <td>3</td>\n",
       "      <td>alternative metal</td>\n",
       "    </tr>\n",
       "    <tr>\n",
       "      <th>4</th>\n",
       "      <td>4</td>\n",
       "      <td>classic rock</td>\n",
       "    </tr>\n",
       "  </tbody>\n",
       "</table>\n",
       "</div>"
      ],
      "text/plain": [
       "   genre_id           genre_name\n",
       "0         0      adult standards\n",
       "1         1           album rock\n",
       "2         2  alternative hip hop\n",
       "3         3    alternative metal\n",
       "4         4         classic rock"
      ]
     },
     "execution_count": 6,
     "metadata": {},
     "output_type": "execute_result"
    }
   ],
   "source": [
    "df_genres = pd.read_sql_query('SELECT * FROM genres',con=my_conn)\n",
    "df_genres.head()"
   ]
  },
  {
   "cell_type": "code",
   "execution_count": 7,
   "id": "d2a5bdf8",
   "metadata": {},
   "outputs": [
    {
     "data": {
      "text/html": [
       "<div>\n",
       "<style scoped>\n",
       "    .dataframe tbody tr th:only-of-type {\n",
       "        vertical-align: middle;\n",
       "    }\n",
       "\n",
       "    .dataframe tbody tr th {\n",
       "        vertical-align: top;\n",
       "    }\n",
       "\n",
       "    .dataframe thead th {\n",
       "        text-align: right;\n",
       "    }\n",
       "</style>\n",
       "<table border=\"1\" class=\"dataframe\">\n",
       "  <thead>\n",
       "    <tr style=\"text-align: right;\">\n",
       "      <th></th>\n",
       "      <th>index</th>\n",
       "      <th>song_id</th>\n",
       "      <th>title</th>\n",
       "      <th>year</th>\n",
       "      <th>bpm</th>\n",
       "      <th>energy</th>\n",
       "      <th>danceability</th>\n",
       "      <th>db</th>\n",
       "      <th>liveness</th>\n",
       "      <th>valence</th>\n",
       "      <th>length</th>\n",
       "      <th>acousticness</th>\n",
       "      <th>speechiness</th>\n",
       "      <th>popularity</th>\n",
       "      <th>genre_name</th>\n",
       "      <th>artist_name</th>\n",
       "    </tr>\n",
       "  </thead>\n",
       "  <tbody>\n",
       "    <tr>\n",
       "      <th>0</th>\n",
       "      <td>0</td>\n",
       "      <td>0</td>\n",
       "      <td>Sunrise</td>\n",
       "      <td>2004</td>\n",
       "      <td>157</td>\n",
       "      <td>30</td>\n",
       "      <td>53</td>\n",
       "      <td>-14</td>\n",
       "      <td>11</td>\n",
       "      <td>68</td>\n",
       "      <td>201</td>\n",
       "      <td>94</td>\n",
       "      <td>3</td>\n",
       "      <td>71</td>\n",
       "      <td>adult standards</td>\n",
       "      <td>Norah Jones</td>\n",
       "    </tr>\n",
       "    <tr>\n",
       "      <th>1</th>\n",
       "      <td>1</td>\n",
       "      <td>33</td>\n",
       "      <td>Don't Know Why</td>\n",
       "      <td>2002</td>\n",
       "      <td>88</td>\n",
       "      <td>20</td>\n",
       "      <td>73</td>\n",
       "      <td>-12</td>\n",
       "      <td>7</td>\n",
       "      <td>62</td>\n",
       "      <td>186</td>\n",
       "      <td>88</td>\n",
       "      <td>3</td>\n",
       "      <td>74</td>\n",
       "      <td>adult standards</td>\n",
       "      <td>Norah Jones</td>\n",
       "    </tr>\n",
       "    <tr>\n",
       "      <th>2</th>\n",
       "      <td>2</td>\n",
       "      <td>10</td>\n",
       "      <td>Love Me Tender</td>\n",
       "      <td>2002</td>\n",
       "      <td>109</td>\n",
       "      <td>5</td>\n",
       "      <td>44</td>\n",
       "      <td>-16</td>\n",
       "      <td>11</td>\n",
       "      <td>31</td>\n",
       "      <td>162</td>\n",
       "      <td>88</td>\n",
       "      <td>4</td>\n",
       "      <td>49</td>\n",
       "      <td>adult standards</td>\n",
       "      <td>Elvis Presley</td>\n",
       "    </tr>\n",
       "    <tr>\n",
       "      <th>3</th>\n",
       "      <td>3</td>\n",
       "      <td>144</td>\n",
       "      <td>A Little Less Conversation - JXL Radio Edit Remix</td>\n",
       "      <td>2002</td>\n",
       "      <td>115</td>\n",
       "      <td>97</td>\n",
       "      <td>60</td>\n",
       "      <td>-6</td>\n",
       "      <td>13</td>\n",
       "      <td>72</td>\n",
       "      <td>212</td>\n",
       "      <td>0</td>\n",
       "      <td>5</td>\n",
       "      <td>64</td>\n",
       "      <td>adult standards</td>\n",
       "      <td>Elvis Presley</td>\n",
       "    </tr>\n",
       "    <tr>\n",
       "      <th>4</th>\n",
       "      <td>4</td>\n",
       "      <td>387</td>\n",
       "      <td>(You're The) Devil in Disguise</td>\n",
       "      <td>2002</td>\n",
       "      <td>123</td>\n",
       "      <td>73</td>\n",
       "      <td>48</td>\n",
       "      <td>-8</td>\n",
       "      <td>11</td>\n",
       "      <td>87</td>\n",
       "      <td>140</td>\n",
       "      <td>57</td>\n",
       "      <td>17</td>\n",
       "      <td>65</td>\n",
       "      <td>adult standards</td>\n",
       "      <td>Elvis Presley</td>\n",
       "    </tr>\n",
       "  </tbody>\n",
       "</table>\n",
       "</div>"
      ],
      "text/plain": [
       "   index  song_id                                              title  year  \\\n",
       "0      0        0                                            Sunrise  2004   \n",
       "1      1       33                                     Don't Know Why  2002   \n",
       "2      2       10                                     Love Me Tender  2002   \n",
       "3      3      144  A Little Less Conversation - JXL Radio Edit Remix  2002   \n",
       "4      4      387                     (You're The) Devil in Disguise  2002   \n",
       "\n",
       "   bpm  energy  danceability  db  liveness  valence  length  acousticness  \\\n",
       "0  157      30            53 -14        11       68     201            94   \n",
       "1   88      20            73 -12         7       62     186            88   \n",
       "2  109       5            44 -16        11       31     162            88   \n",
       "3  115      97            60  -6        13       72     212             0   \n",
       "4  123      73            48  -8        11       87     140            57   \n",
       "\n",
       "   speechiness  popularity       genre_name    artist_name  \n",
       "0            3          71  adult standards    Norah Jones  \n",
       "1            3          74  adult standards    Norah Jones  \n",
       "2            4          49  adult standards  Elvis Presley  \n",
       "3            5          64  adult standards  Elvis Presley  \n",
       "4           17          65  adult standards  Elvis Presley  "
      ]
     },
     "execution_count": 7,
     "metadata": {},
     "output_type": "execute_result"
    }
   ],
   "source": [
    "df=df_songs.merge(df_song_characteristics).merge(df_genres).merge(df_artists).reset_index()\n",
    "df.drop(columns=['artist_id','genre_id'],inplace=True)\n",
    "df.head()"
   ]
  },
  {
   "cell_type": "code",
   "execution_count": 8,
   "id": "2e54e476",
   "metadata": {},
   "outputs": [
    {
     "name": "stdout",
     "output_type": "stream",
     "text": [
      "<class 'pandas.core.frame.DataFrame'>\n",
      "RangeIndex: 1994 entries, 0 to 1993\n",
      "Data columns (total 16 columns):\n",
      " #   Column        Non-Null Count  Dtype \n",
      "---  ------        --------------  ----- \n",
      " 0   index         1994 non-null   int64 \n",
      " 1   song_id       1994 non-null   int64 \n",
      " 2   title         1994 non-null   object\n",
      " 3   year          1994 non-null   int64 \n",
      " 4   bpm           1994 non-null   int64 \n",
      " 5   energy        1994 non-null   int64 \n",
      " 6   danceability  1994 non-null   int64 \n",
      " 7   db            1994 non-null   int64 \n",
      " 8   liveness      1994 non-null   int64 \n",
      " 9   valence       1994 non-null   int64 \n",
      " 10  length        1994 non-null   int64 \n",
      " 11  acousticness  1994 non-null   int64 \n",
      " 12  speechiness   1994 non-null   int64 \n",
      " 13  popularity    1994 non-null   int64 \n",
      " 14  genre_name    1994 non-null   object\n",
      " 15  artist_name   1994 non-null   object\n",
      "dtypes: int64(13), object(3)\n",
      "memory usage: 249.4+ KB\n"
     ]
    }
   ],
   "source": [
    "df.info()\n"
   ]
  },
  {
   "cell_type": "code",
   "execution_count": 213,
   "id": "d5083104",
   "metadata": {},
   "outputs": [
    {
     "data": {
      "image/png": "[encoded data removed]",
      "text/plain": [
       "<Figure size 1152x720 with 2 Axes>"
      ]
     },
     "metadata": {
      "needs_background": "light"
     },
     "output_type": "display_data"
    }
   ],
   "source": [
    "plt.figure(figsize = (16,10))\n",
    "df_heatmap=df_song_characteristics.drop(columns=['song_id']).corr()\n",
    "sns.heatmap(df_heatmap,cmap='coolwarm',annot=True)\n",
    "plt.title='Correlation between different song characteristics'\n",
    "plt.show()"
   ]
  },
  {
   "cell_type": "code",
   "execution_count": 120,
   "id": "3f078704",
   "metadata": {},
   "outputs": [
    {
     "data": {
      "text/html": [
       "<div>\n",
       "<style scoped>\n",
       "    .dataframe tbody tr th:only-of-type {\n",
       "        vertical-align: middle;\n",
       "    }\n",
       "\n",
       "    .dataframe tbody tr th {\n",
       "        vertical-align: top;\n",
       "    }\n",
       "\n",
       "    .dataframe thead th {\n",
       "        text-align: right;\n",
       "    }\n",
       "</style>\n",
       "<table border=\"1\" class=\"dataframe\">\n",
       "  <thead>\n",
       "    <tr style=\"text-align: right;\">\n",
       "      <th></th>\n",
       "      <th>bpm</th>\n",
       "      <th>count</th>\n",
       "    </tr>\n",
       "  </thead>\n",
       "  <tbody>\n",
       "    <tr>\n",
       "      <th>0</th>\n",
       "      <td>125</td>\n",
       "      <td>40</td>\n",
       "    </tr>\n",
       "    <tr>\n",
       "      <th>1</th>\n",
       "      <td>127</td>\n",
       "      <td>39</td>\n",
       "    </tr>\n",
       "    <tr>\n",
       "      <th>2</th>\n",
       "      <td>120</td>\n",
       "      <td>38</td>\n",
       "    </tr>\n",
       "    <tr>\n",
       "      <th>3</th>\n",
       "      <td>123</td>\n",
       "      <td>38</td>\n",
       "    </tr>\n",
       "    <tr>\n",
       "      <th>4</th>\n",
       "      <td>115</td>\n",
       "      <td>36</td>\n",
       "    </tr>\n",
       "    <tr>\n",
       "      <th>...</th>\n",
       "      <td>...</td>\n",
       "      <td>...</td>\n",
       "    </tr>\n",
       "    <tr>\n",
       "      <th>140</th>\n",
       "      <td>63</td>\n",
       "      <td>1</td>\n",
       "    </tr>\n",
       "    <tr>\n",
       "      <th>141</th>\n",
       "      <td>60</td>\n",
       "      <td>1</td>\n",
       "    </tr>\n",
       "    <tr>\n",
       "      <th>142</th>\n",
       "      <td>58</td>\n",
       "      <td>1</td>\n",
       "    </tr>\n",
       "    <tr>\n",
       "      <th>143</th>\n",
       "      <td>54</td>\n",
       "      <td>1</td>\n",
       "    </tr>\n",
       "    <tr>\n",
       "      <th>144</th>\n",
       "      <td>206</td>\n",
       "      <td>1</td>\n",
       "    </tr>\n",
       "  </tbody>\n",
       "</table>\n",
       "<p>145 rows × 2 columns</p>\n",
       "</div>"
      ],
      "text/plain": [
       "     bpm  count\n",
       "0    125     40\n",
       "1    127     39\n",
       "2    120     38\n",
       "3    123     38\n",
       "4    115     36\n",
       "..   ...    ...\n",
       "140   63      1\n",
       "141   60      1\n",
       "142   58      1\n",
       "143   54      1\n",
       "144  206      1\n",
       "\n",
       "[145 rows x 2 columns]"
      ]
     },
     "execution_count": 120,
     "metadata": {},
     "output_type": "execute_result"
    }
   ],
   "source": [
    "df_most_popular_bpm=df.groupby(['bpm'])[['index']].count().sort_values(by='index',ascending=False).reset_index()\n",
    "df_most_popular_bpm.columns=['bpm','count']\n",
    "df_most_popular_bpm\n"
   ]
  },
  {
   "cell_type": "code",
   "execution_count": 138,
   "id": "f91c5d17",
   "metadata": {},
   "outputs": [
    {
     "data": {
      "text/plain": [
       "<seaborn.axisgrid.FacetGrid at 0x1f8f8edf5e0>"
      ]
     },
     "execution_count": 138,
     "metadata": {},
     "output_type": "execute_result"
    },
    {
     "data": {
      "image/png": "[encoded data removed]",
      "text/plain": [
       "<Figure size 360x360 with 1 Axes>"
      ]
     },
     "metadata": {
      "needs_background": "light"
     },
     "output_type": "display_data"
    }
   ],
   "source": [
    "\n",
    "sns.displot(df_most_popular_bpm,x='bpm',bins=18,kde=True)"
   ]
  },
  {
   "cell_type": "code",
   "execution_count": 148,
   "id": "95fd1916",
   "metadata": {},
   "outputs": [
    {
     "data": {
      "text/html": [
       "<div>\n",
       "<style scoped>\n",
       "    .dataframe tbody tr th:only-of-type {\n",
       "        vertical-align: middle;\n",
       "    }\n",
       "\n",
       "    .dataframe tbody tr th {\n",
       "        vertical-align: top;\n",
       "    }\n",
       "\n",
       "    .dataframe thead th {\n",
       "        text-align: right;\n",
       "    }\n",
       "</style>\n",
       "<table border=\"1\" class=\"dataframe\">\n",
       "  <thead>\n",
       "    <tr style=\"text-align: right;\">\n",
       "      <th></th>\n",
       "      <th>genre_name</th>\n",
       "      <th>length</th>\n",
       "    </tr>\n",
       "  </thead>\n",
       "  <tbody>\n",
       "    <tr>\n",
       "      <th>0</th>\n",
       "      <td>finnish metal</td>\n",
       "      <td>444.500000</td>\n",
       "    </tr>\n",
       "    <tr>\n",
       "      <th>1</th>\n",
       "      <td>italian pop</td>\n",
       "      <td>391.000000</td>\n",
       "    </tr>\n",
       "    <tr>\n",
       "      <th>2</th>\n",
       "      <td>contemporary vocal jazz</td>\n",
       "      <td>384.000000</td>\n",
       "    </tr>\n",
       "    <tr>\n",
       "      <th>3</th>\n",
       "      <td>chamber pop</td>\n",
       "      <td>374.000000</td>\n",
       "    </tr>\n",
       "    <tr>\n",
       "      <th>4</th>\n",
       "      <td>funk</td>\n",
       "      <td>353.384615</td>\n",
       "    </tr>\n",
       "  </tbody>\n",
       "</table>\n",
       "</div>"
      ],
      "text/plain": [
       "                genre_name      length\n",
       "0            finnish metal  444.500000\n",
       "1              italian pop  391.000000\n",
       "2  contemporary vocal jazz  384.000000\n",
       "3              chamber pop  374.000000\n",
       "4                     funk  353.384615"
      ]
     },
     "execution_count": 148,
     "metadata": {},
     "output_type": "execute_result"
    }
   ],
   "source": [
    "df_top5_avg_length=df.groupby(['genre_name'])[['length']].mean().sort_values(by='length',ascending=False).head().reset_index()\n",
    "df_top5_avg_length"
   ]
  },
  {
   "cell_type": "code",
   "execution_count": 150,
   "id": "b2497039",
   "metadata": {},
   "outputs": [
    {
     "data": {
      "text/plain": [
       "<AxesSubplot:xlabel='genre_name', ylabel='length'>"
      ]
     },
     "execution_count": 150,
     "metadata": {},
     "output_type": "execute_result"
    },
    {
     "data": {
      "image/png": "[encoded data removed]",
      "text/plain": [
       "<Figure size 1152x720 with 1 Axes>"
      ]
     },
     "metadata": {
      "needs_background": "light"
     },
     "output_type": "display_data"
    }
   ],
   "source": [
    "plt.figure(figsize = (16,10))\n",
    "sns.barplot(data=df_top5_avg_length,y='length',x='genre_name')"
   ]
  },
  {
   "cell_type": "code",
   "execution_count": 211,
   "id": "1ff984d9",
   "metadata": {},
   "outputs": [
    {
     "data": {
      "text/plain": [
       "<seaborn.axisgrid.FacetGrid at 0x1f8f8f42940>"
      ]
     },
     "execution_count": 211,
     "metadata": {},
     "output_type": "execute_result"
    },
    {
     "data": {
      "text/plain": [
       "<Figure size 1440x1440 with 0 Axes>"
      ]
     },
     "metadata": {},
     "output_type": "display_data"
    },
    {
     "data": {
      "image/png": "[encoded data removed]",
      "text/plain": [
       "<Figure size 864x576 with 1 Axes>"
      ]
     },
     "metadata": {
      "needs_background": "light"
     },
     "output_type": "display_data"
    }
   ],
   "source": [
    "plt.figure(figsize = (20,20))\n",
    "sns.lmplot(data=df,x='length',y='popularity',height=8, aspect=1.5)"
   ]
  },
  {
   "cell_type": "code",
   "execution_count": 236,
   "id": "da59b7e7",
   "metadata": {},
   "outputs": [
    {
     "data": {
      "text/html": [
       "<div>\n",
       "<style scoped>\n",
       "    .dataframe tbody tr th:only-of-type {\n",
       "        vertical-align: middle;\n",
       "    }\n",
       "\n",
       "    .dataframe tbody tr th {\n",
       "        vertical-align: top;\n",
       "    }\n",
       "\n",
       "    .dataframe thead th {\n",
       "        text-align: right;\n",
       "    }\n",
       "</style>\n",
       "<table border=\"1\" class=\"dataframe\">\n",
       "  <thead>\n",
       "    <tr style=\"text-align: right;\">\n",
       "      <th></th>\n",
       "      <th>genre_name</th>\n",
       "      <th>bpm</th>\n",
       "    </tr>\n",
       "  </thead>\n",
       "  <tbody>\n",
       "    <tr>\n",
       "      <th>0</th>\n",
       "      <td>bebop</td>\n",
       "      <td>174.0</td>\n",
       "    </tr>\n",
       "    <tr>\n",
       "      <th>1</th>\n",
       "      <td>latin alternative</td>\n",
       "      <td>176.0</td>\n",
       "    </tr>\n",
       "    <tr>\n",
       "      <th>2</th>\n",
       "      <td>latin</td>\n",
       "      <td>178.5</td>\n",
       "    </tr>\n",
       "    <tr>\n",
       "      <th>3</th>\n",
       "      <td>electro house</td>\n",
       "      <td>180.0</td>\n",
       "    </tr>\n",
       "    <tr>\n",
       "      <th>4</th>\n",
       "      <td>laboratorio</td>\n",
       "      <td>189.0</td>\n",
       "    </tr>\n",
       "  </tbody>\n",
       "</table>\n",
       "</div>"
      ],
      "text/plain": [
       "          genre_name    bpm\n",
       "0              bebop  174.0\n",
       "1  latin alternative  176.0\n",
       "2              latin  178.5\n",
       "3      electro house  180.0\n",
       "4        laboratorio  189.0"
      ]
     },
     "execution_count": 236,
     "metadata": {},
     "output_type": "execute_result"
    }
   ],
   "source": [
    "df_top_avg_bpm_genres=df.groupby(['genre_name'])[['bpm']].mean().sort_values(by='bpm').tail(5).reset_index()\n",
    "df_top_avg_bpm_genres\n"
   ]
  },
  {
   "cell_type": "code",
   "execution_count": 238,
   "id": "06c9f29b",
   "metadata": {},
   "outputs": [
    {
     "data": {
      "text/plain": [
       "<AxesSubplot:xlabel='genre_name', ylabel='bpm'>"
      ]
     },
     "execution_count": 238,
     "metadata": {},
     "output_type": "execute_result"
    },
    {
     "data": {
      "image/png": "[encoded data removed]",
      "text/plain": [
       "<Figure size 432x288 with 1 Axes>"
      ]
     },
     "metadata": {
      "needs_background": "light"
     },
     "output_type": "display_data"
    }
   ],
   "source": [
    "sns.barplot(data=df_top_avg_bpm_genres,x='genre_name',y='bpm')"
   ]
  },
  {
   "cell_type": "code",
   "execution_count": 249,
   "id": "1a7ee6a6",
   "metadata": {},
   "outputs": [
    {
     "data": {
      "text/html": [
       "<div>\n",
       "<style scoped>\n",
       "    .dataframe tbody tr th:only-of-type {\n",
       "        vertical-align: middle;\n",
       "    }\n",
       "\n",
       "    .dataframe tbody tr th {\n",
       "        vertical-align: top;\n",
       "    }\n",
       "\n",
       "    .dataframe thead th {\n",
       "        text-align: right;\n",
       "    }\n",
       "</style>\n",
       "<table border=\"1\" class=\"dataframe\">\n",
       "  <thead>\n",
       "    <tr style=\"text-align: right;\">\n",
       "      <th></th>\n",
       "      <th>energy</th>\n",
       "      <th>bpm</th>\n",
       "    </tr>\n",
       "    <tr>\n",
       "      <th>year</th>\n",
       "      <th></th>\n",
       "      <th></th>\n",
       "    </tr>\n",
       "  </thead>\n",
       "  <tbody>\n",
       "    <tr>\n",
       "      <th>1956</th>\n",
       "      <td>66.000000</td>\n",
       "      <td>95.000000</td>\n",
       "    </tr>\n",
       "    <tr>\n",
       "      <th>1958</th>\n",
       "      <td>37.200000</td>\n",
       "      <td>144.600000</td>\n",
       "    </tr>\n",
       "    <tr>\n",
       "      <th>1959</th>\n",
       "      <td>52.000000</td>\n",
       "      <td>158.333333</td>\n",
       "    </tr>\n",
       "    <tr>\n",
       "      <th>1960</th>\n",
       "      <td>35.000000</td>\n",
       "      <td>87.000000</td>\n",
       "    </tr>\n",
       "    <tr>\n",
       "      <th>1961</th>\n",
       "      <td>29.000000</td>\n",
       "      <td>100.000000</td>\n",
       "    </tr>\n",
       "    <tr>\n",
       "      <th>...</th>\n",
       "      <td>...</td>\n",
       "      <td>...</td>\n",
       "    </tr>\n",
       "    <tr>\n",
       "      <th>2015</th>\n",
       "      <td>62.000000</td>\n",
       "      <td>121.880952</td>\n",
       "    </tr>\n",
       "    <tr>\n",
       "      <th>2016</th>\n",
       "      <td>52.742857</td>\n",
       "      <td>121.285714</td>\n",
       "    </tr>\n",
       "    <tr>\n",
       "      <th>2017</th>\n",
       "      <td>63.333333</td>\n",
       "      <td>118.777778</td>\n",
       "    </tr>\n",
       "    <tr>\n",
       "      <th>2018</th>\n",
       "      <td>60.750000</td>\n",
       "      <td>116.865385</td>\n",
       "    </tr>\n",
       "    <tr>\n",
       "      <th>2019</th>\n",
       "      <td>58.666667</td>\n",
       "      <td>117.047619</td>\n",
       "    </tr>\n",
       "  </tbody>\n",
       "</table>\n",
       "<p>63 rows × 2 columns</p>\n",
       "</div>"
      ],
      "text/plain": [
       "         energy         bpm\n",
       "year                       \n",
       "1956  66.000000   95.000000\n",
       "1958  37.200000  144.600000\n",
       "1959  52.000000  158.333333\n",
       "1960  35.000000   87.000000\n",
       "1961  29.000000  100.000000\n",
       "...         ...         ...\n",
       "2015  62.000000  121.880952\n",
       "2016  52.742857  121.285714\n",
       "2017  63.333333  118.777778\n",
       "2018  60.750000  116.865385\n",
       "2019  58.666667  117.047619\n",
       "\n",
       "[63 rows x 2 columns]"
      ]
     },
     "execution_count": 249,
     "metadata": {},
     "output_type": "execute_result"
    }
   ],
   "source": [
    "df_avg_energy=df.groupby(['year'])[['energy','bpm']].mean()\n",
    "df_avg_energy\n"
   ]
  },
  {
   "cell_type": "code",
   "execution_count": 250,
   "id": "9a64c4cc",
   "metadata": {},
   "outputs": [
    {
     "data": {
      "text/plain": [
       "<AxesSubplot:xlabel='year'>"
      ]
     },
     "execution_count": 250,
     "metadata": {},
     "output_type": "execute_result"
    },
    {
     "data": {
      "image/png": "[encoded data removed]",
      "text/plain": [
       "<Figure size 432x288 with 1 Axes>"
      ]
     },
     "metadata": {
      "needs_background": "light"
     },
     "output_type": "display_data"
    }
   ],
   "source": [
    "sns.lineplot(data=df_avg_energy,y)"
   ]
  }
 ],
 "metadata": {
  "kernelspec": {
   "display_name": "Python 3.9.7 ('base')",
   "language": "python",
   "name": "python3"
  },
  "language_info": {
   "codemirror_mode": {
    "name": "ipython",
    "version": 3
   },
   "file_extension": ".py",
   "mimetype": "text/x-python",
   "name": "python",
   "nbconvert_exporter": "python",
   "pygments_lexer": "ipython3",
   "version": "3.9.7"
  },
  "vscode": {
   "interpreter": {
    "hash": "827275b15711f5797cb1a357d547f0d99b89559e7b487cb92f9ed27b15f01a72"
   }
  }
 },
 "nbformat": 4,
 "nbformat_minor": 5
}
